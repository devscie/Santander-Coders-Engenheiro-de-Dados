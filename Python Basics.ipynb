{
 "cells": [
  {
   "cell_type": "code",
   "execution_count": 1,
   "id": "3bb43175",
   "metadata": {},
   "outputs": [
    {
     "name": "stdout",
     "output_type": "stream",
     "text": [
      "Hello Word\n"
     ]
    }
   ],
   "source": [
    "print(\"Hello Word\")"
   ]
  },
  {
   "cell_type": "raw",
   "id": "bead388b",
   "metadata": {},
   "source": [
    "# Variáveis"
   ]
  },
  {
   "cell_type": "code",
   "execution_count": 2,
   "id": "1fd395d4",
   "metadata": {},
   "outputs": [
    {
     "name": "stdout",
     "output_type": "stream",
     "text": [
      "5\n",
      "<class 'int'>\n"
     ]
    }
   ],
   "source": [
    "x = 5\n",
    "print(x)\n",
    "print(type(x))"
   ]
  },
  {
   "cell_type": "code",
   "execution_count": 3,
   "id": "4bd40ee1",
   "metadata": {},
   "outputs": [
    {
     "name": "stdout",
     "output_type": "stream",
     "text": [
      "19.99 <class 'float'>\n"
     ]
    }
   ],
   "source": [
    "preco = 19.99\n",
    "print(preco, type(preco))"
   ]
  },
  {
   "cell_type": "code",
   "execution_count": 4,
   "id": "0f143fc9",
   "metadata": {},
   "outputs": [
    {
     "name": "stdout",
     "output_type": "stream",
     "text": [
      "Ribeirão das Neves <class 'str'>\n"
     ]
    }
   ],
   "source": [
    "cidade = \"Ribeirão das Neves\"\n",
    "print(cidade, type(cidade))"
   ]
  },
  {
   "cell_type": "code",
   "execution_count": 5,
   "id": "15f2c5a5",
   "metadata": {},
   "outputs": [
    {
     "name": "stdout",
     "output_type": "stream",
     "text": [
      "Minas Gerais <class 'str'>\n"
     ]
    }
   ],
   "source": [
    "estado = 'Minas Gerais'\n",
    "print(estado, type(estado))"
   ]
  },
  {
   "cell_type": "code",
   "execution_count": 6,
   "id": "c7fa2d8e",
   "metadata": {},
   "outputs": [
    {
     "name": "stdout",
     "output_type": "stream",
     "text": [
      "True\n"
     ]
    }
   ],
   "source": [
    "disponivel = True\n",
    "print(disponivel)"
   ]
  },
  {
   "cell_type": "code",
   "execution_count": 8,
   "id": "ca851bed",
   "metadata": {},
   "outputs": [
    {
     "name": "stdout",
     "output_type": "stream",
     "text": [
      "False <class 'bool'>\n"
     ]
    }
   ],
   "source": [
    "tem_estoque = False\n",
    "print(tem_estoque, type(tem_estoque))"
   ]
  },
  {
   "cell_type": "code",
   "execution_count": null,
   "id": "ae0ebd23",
   "metadata": {},
   "outputs": [],
   "source": [
    "# Operadores"
   ]
  },
  {
   "cell_type": "code",
   "execution_count": 9,
   "id": "ae4e5158",
   "metadata": {},
   "outputs": [],
   "source": [
    "x = 50\n",
    "y = 2"
   ]
  },
  {
   "cell_type": "code",
   "execution_count": 10,
   "id": "33d0838c",
   "metadata": {},
   "outputs": [
    {
     "name": "stdout",
     "output_type": "stream",
     "text": [
      "52\n",
      "48\n",
      "100\n",
      "25.0\n"
     ]
    }
   ],
   "source": [
    "print(x + y) #Adição\n",
    "print(x - y) #Subtração\n",
    "print(x * y) #Multiplicação\n",
    "print(x / y) #Divisão"
   ]
  },
  {
   "cell_type": "code",
   "execution_count": 11,
   "id": "2c6e9c87",
   "metadata": {},
   "outputs": [
    {
     "name": "stdout",
     "output_type": "stream",
     "text": [
      "2500\n",
      "25\n",
      "0\n"
     ]
    }
   ],
   "source": [
    "print(x ** y) #Exponenciação\n",
    "print(x // y) #Divisão Inteira\n",
    "print(x % y)  #Resto da Divisão"
   ]
  },
  {
   "cell_type": "code",
   "execution_count": 12,
   "id": "82de700f",
   "metadata": {},
   "outputs": [
    {
     "name": "stdout",
     "output_type": "stream",
     "text": [
      "0\n"
     ]
    }
   ],
   "source": [
    "print(3 // 4)"
   ]
  },
  {
   "cell_type": "code",
   "execution_count": 13,
   "id": "60996553",
   "metadata": {},
   "outputs": [],
   "source": [
    "tem_cafe = True\n",
    "tem_pao = False"
   ]
  },
  {
   "cell_type": "code",
   "execution_count": 14,
   "id": "4386919a",
   "metadata": {},
   "outputs": [
    {
     "name": "stdout",
     "output_type": "stream",
     "text": [
      "False\n",
      "True\n",
      "False\n"
     ]
    }
   ],
   "source": [
    "print(not tem_cafe)\n",
    "print(tem_cafe or tem_pao)\n",
    "print(tem_cafe and tem_pao)"
   ]
  },
  {
   "cell_type": "code",
   "execution_count": 15,
   "id": "a9e5e710",
   "metadata": {},
   "outputs": [],
   "source": [
    "dolar = 5.3\n",
    "real = 1"
   ]
  },
  {
   "cell_type": "code",
   "execution_count": 16,
   "id": "824c6f5a",
   "metadata": {},
   "outputs": [
    {
     "name": "stdout",
     "output_type": "stream",
     "text": [
      "True\n",
      "False\n",
      "False\n",
      "True\n",
      "False\n",
      "True\n"
     ]
    }
   ],
   "source": [
    "print(dolar > real)\n",
    "print(dolar < real)\n",
    "print(dolar == real)\n",
    "print(dolar >= real)\n",
    "print(dolar <= real)\n",
    "print(dolar != real)"
   ]
  },
  {
   "cell_type": "code",
   "execution_count": null,
   "id": "7f29220e",
   "metadata": {},
   "outputs": [],
   "source": [
    "# Input & Casting"
   ]
  },
  {
   "cell_type": "code",
   "execution_count": 18,
   "id": "02523034",
   "metadata": {},
   "outputs": [
    {
     "name": "stdout",
     "output_type": "stream",
     "text": [
      "Informe a sua idade: 32\n",
      "32 <class 'str'>\n"
     ]
    }
   ],
   "source": [
    "idade = input(\"Informe a sua idade: \")\n",
    "print(idade, type(idade))"
   ]
  },
  {
   "cell_type": "code",
   "execution_count": 19,
   "id": "14142910",
   "metadata": {},
   "outputs": [
    {
     "name": "stdout",
     "output_type": "stream",
     "text": [
      "32 <class 'int'>\n"
     ]
    }
   ],
   "source": [
    "idade = int(idade)\n",
    "print(idade, type(idade))"
   ]
  },
  {
   "cell_type": "code",
   "execution_count": 20,
   "id": "fb3bfbe9",
   "metadata": {},
   "outputs": [
    {
     "name": "stdout",
     "output_type": "stream",
     "text": [
      "123.25\n",
      "123.25\n",
      "False\n",
      "True\n",
      "False\n",
      "True\n"
     ]
    }
   ],
   "source": [
    "print(float(\"123.25\"))\n",
    "print(str(123.25))\n",
    "print(bool(''))\n",
    "print(bool('abc'))\n",
    "print(bool(0))\n",
    "print(bool(-2))"
   ]
  },
  {
   "cell_type": "code",
   "execution_count": 21,
   "id": "9c189fb0",
   "metadata": {},
   "outputs": [
    {
     "name": "stdout",
     "output_type": "stream",
     "text": [
      "Digite o valor do seu salário mensal: 1212\n",
      "Digite o valor do seu gasto mensal em média: 1000\n",
      "O montante que você pode economizar ao final do ano é de:  2544.0\n"
     ]
    }
   ],
   "source": [
    "salario_mensal = input(\"Digite o valor do seu salário mensal: \")\n",
    "salario_mensal = float(salario_mensal)\n",
    "\n",
    "gasto_mensal = input(\"Digite o valor do seu gasto mensal em média: \")\n",
    "gasto_mensal = float(gasto_mensal)\n",
    "\n",
    "salario_total = salario_mensal * 12\n",
    "gasto_total = gasto_mensal * 12\n",
    "\n",
    "montante_economizado = salario_total - gasto_total\n",
    "print(\"O montante que você pode economizar ao final do ano é de: R$\", montante_economizado)"
   ]
  },
  {
   "cell_type": "code",
   "execution_count": null,
   "id": "b8e906f4",
   "metadata": {},
   "outputs": [],
   "source": [
    "# Estruturas Condicionais"
   ]
  },
  {
   "cell_type": "code",
   "execution_count": 41,
   "id": "78e341e8",
   "metadata": {},
   "outputs": [
    {
     "name": "stdout",
     "output_type": "stream",
     "text": [
      "Qual é o valor da corrida? 30\n"
     ]
    }
   ],
   "source": [
    "valor_passagem =  6.60\n",
    "\n",
    "valor_corrida = input(\"Qual é o valor da corrida? \")\n",
    "\n",
    "if float(valor_corrida) <= valor_passagem * 2.515:\n",
    "    print(\"Pegue o corrida\")"
   ]
  },
  {
   "cell_type": "code",
   "execution_count": 42,
   "id": "c9057759",
   "metadata": {},
   "outputs": [
    {
     "name": "stdout",
     "output_type": "stream",
     "text": [
      "Qual é o valor da corrida? 30\n",
      "Pegue o ônibus\n"
     ]
    }
   ],
   "source": [
    "valor_passagem =  6.60\n",
    "\n",
    "valor_corrida = input(\"Qual é o valor da corrida? \")\n",
    "\n",
    "if float(valor_corrida) <= valor_passagem * 2.515:\n",
    "    print(\"Pegue o corrida\")\n",
    "if float(valor_corrida) > valor_passagem * 2.515:\n",
    "    print(\"Pegue o ônibus\")"
   ]
  },
  {
   "cell_type": "code",
   "execution_count": 43,
   "id": "4da242e2",
   "metadata": {},
   "outputs": [
    {
     "name": "stdout",
     "output_type": "stream",
     "text": [
      "Qual é o valor da corrida? 15\n",
      "Pegue o corrida\n"
     ]
    }
   ],
   "source": [
    "valor_passagem =  6.60\n",
    "\n",
    "valor_corrida = input(\"Qual é o valor da corrida? \")\n",
    "\n",
    "if float(valor_corrida) <= valor_passagem * 2.515:\n",
    "    print(\"Pegue o corrida\")\n",
    "else:\n",
    "    print(\"Pegue o ônibus\")"
   ]
  },
  {
   "cell_type": "code",
   "execution_count": 44,
   "id": "a2550ade",
   "metadata": {},
   "outputs": [
    {
     "name": "stdout",
     "output_type": "stream",
     "text": [
      "Qual é o valor da corrida? 24\n",
      "Aguarde um momento o valor da passagem pode abaixr!\n"
     ]
    }
   ],
   "source": [
    "valor_passagem =  6.60\n",
    "\n",
    "valor_corrida = input(\"Qual é o valor da corrida? \")\n",
    "\n",
    "if float(valor_corrida) <= valor_passagem * 2.515:\n",
    "    print(\"Pegue o corrida\")\n",
    "else:\n",
    "    if float(valor_corrida) <= valor_passagem * 4:\n",
    "        print(\"Aguarde um momento o valor da passagem pode abaixr!\")\n",
    "    else:\n",
    "        print(\"Pegue o ônibus\")"
   ]
  },
  {
   "cell_type": "code",
   "execution_count": 45,
   "id": "c0d476c5",
   "metadata": {},
   "outputs": [
    {
     "name": "stdout",
     "output_type": "stream",
     "text": [
      "Qual é o valor da corrida? 50\n",
      "Pegue o ônibus\n"
     ]
    }
   ],
   "source": [
    "valor_passagem =  6.60\n",
    "\n",
    "valor_corrida = input(\"Qual é o valor da corrida? \")\n",
    "\n",
    "if float(valor_corrida) <= valor_passagem * 2.515:\n",
    "    print(\"Pegue o corrida\")\n",
    "elif float(valor_corrida) <= valor_passagem * 4:\n",
    "    print(\"Aguarde um momento o valor da passagem pode abaixr!\")\n",
    "else:\n",
    "    print(\"Pegue o ônibus\")"
   ]
  },
  {
   "cell_type": "code",
   "execution_count": null,
   "id": "f13a1dbf",
   "metadata": {},
   "outputs": [],
   "source": []
  }
 ],
 "metadata": {
  "kernelspec": {
   "display_name": "Python 3 (ipykernel)",
   "language": "python",
   "name": "python3"
  },
  "language_info": {
   "codemirror_mode": {
    "name": "ipython",
    "version": 3
   },
   "file_extension": ".py",
   "mimetype": "text/x-python",
   "name": "python",
   "nbconvert_exporter": "python",
   "pygments_lexer": "ipython3",
   "version": "3.10.4"
  }
 },
 "nbformat": 4,
 "nbformat_minor": 5
}
