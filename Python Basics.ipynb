{
 "cells": [
  {
   "cell_type": "code",
   "execution_count": 1,
   "id": "cb38f582",
   "metadata": {},
   "outputs": [
    {
     "name": "stdout",
     "output_type": "stream",
     "text": [
      "Hello Word\n"
     ]
    }
   ],
   "source": [
    "print(\"Hello Word\")"
   ]
  },
  {
   "cell_type": "raw",
   "id": "98a4ff82",
   "metadata": {},
   "source": [
    "# Variáveis"
   ]
  },
  {
   "cell_type": "code",
   "execution_count": 2,
   "id": "67627d3c",
   "metadata": {},
   "outputs": [
    {
     "name": "stdout",
     "output_type": "stream",
     "text": [
      "5\n",
      "<class 'int'>\n"
     ]
    }
   ],
   "source": [
    "x = 5\n",
    "print(x)\n",
    "print(type(x))"
   ]
  },
  {
   "cell_type": "code",
   "execution_count": 3,
   "id": "c1dc1dda",
   "metadata": {},
   "outputs": [
    {
     "name": "stdout",
     "output_type": "stream",
     "text": [
      "19.99 <class 'float'>\n"
     ]
    }
   ],
   "source": [
    "preco = 19.99\n",
    "print(preco, type(preco))"
   ]
  },
  {
   "cell_type": "code",
   "execution_count": 4,
   "id": "21b9a6b4",
   "metadata": {},
   "outputs": [
    {
     "name": "stdout",
     "output_type": "stream",
     "text": [
      "Ribeirão das Neves <class 'str'>\n"
     ]
    }
   ],
   "source": [
    "cidade = \"Ribeirão das Neves\"\n",
    "print(cidade, type(cidade))"
   ]
  },
  {
   "cell_type": "code",
   "execution_count": 5,
   "id": "8f3a448a",
   "metadata": {},
   "outputs": [
    {
     "name": "stdout",
     "output_type": "stream",
     "text": [
      "Minas Gerais <class 'str'>\n"
     ]
    }
   ],
   "source": [
    "estado = 'Minas Gerais'\n",
    "print(estado, type(estado))"
   ]
  },
  {
   "cell_type": "code",
   "execution_count": 6,
   "id": "ad840dfe",
   "metadata": {},
   "outputs": [
    {
     "name": "stdout",
     "output_type": "stream",
     "text": [
      "True\n"
     ]
    }
   ],
   "source": [
    "disponivel = True\n",
    "print(disponivel)"
   ]
  },
  {
   "cell_type": "code",
   "execution_count": 8,
   "id": "f5a51a5a",
   "metadata": {},
   "outputs": [
    {
     "name": "stdout",
     "output_type": "stream",
     "text": [
      "False <class 'bool'>\n"
     ]
    }
   ],
   "source": [
    "tem_estoque = False\n",
    "print(tem_estoque, type(tem_estoque))"
   ]
  },
  {
   "cell_type": "code",
   "execution_count": null,
   "id": "8d21e22b",
   "metadata": {},
   "outputs": [],
   "source": [
    "# Operadores"
   ]
  },
  {
   "cell_type": "code",
   "execution_count": 9,
   "id": "ae8b9397",
   "metadata": {},
   "outputs": [],
   "source": [
    "x = 50\n",
    "y = 2"
   ]
  },
  {
   "cell_type": "code",
   "execution_count": 10,
   "id": "9ceab003",
   "metadata": {},
   "outputs": [
    {
     "name": "stdout",
     "output_type": "stream",
     "text": [
      "52\n",
      "48\n",
      "100\n",
      "25.0\n"
     ]
    }
   ],
   "source": [
    "print(x + y) #Adição\n",
    "print(x - y) #Subtração\n",
    "print(x * y) #Multiplicação\n",
    "print(x / y) #Divisão"
   ]
  },
  {
   "cell_type": "code",
   "execution_count": 11,
   "id": "8a29b22d",
   "metadata": {},
   "outputs": [
    {
     "name": "stdout",
     "output_type": "stream",
     "text": [
      "2500\n",
      "25\n",
      "0\n"
     ]
    }
   ],
   "source": [
    "print(x ** y) #Exponenciação\n",
    "print(x // y) #Divisão Inteira\n",
    "print(x % y)  #Resto da Divisão"
   ]
  },
  {
   "cell_type": "code",
   "execution_count": 12,
   "id": "b40e4c56",
   "metadata": {},
   "outputs": [
    {
     "name": "stdout",
     "output_type": "stream",
     "text": [
      "0\n"
     ]
    }
   ],
   "source": [
    "print(3 // 4)"
   ]
  },
  {
   "cell_type": "code",
   "execution_count": 13,
   "id": "68534727",
   "metadata": {},
   "outputs": [],
   "source": [
    "tem_cafe = True\n",
    "tem_pao = False"
   ]
  },
  {
   "cell_type": "code",
   "execution_count": 14,
   "id": "5048a230",
   "metadata": {},
   "outputs": [
    {
     "name": "stdout",
     "output_type": "stream",
     "text": [
      "False\n",
      "True\n",
      "False\n"
     ]
    }
   ],
   "source": [
    "print(not tem_cafe)\n",
    "print(tem_cafe or tem_pao)\n",
    "print(tem_cafe and tem_pao)"
   ]
  },
  {
   "cell_type": "code",
   "execution_count": 15,
   "id": "0bbcb34a",
   "metadata": {},
   "outputs": [],
   "source": [
    "dolar = 5.3\n",
    "real = 1"
   ]
  },
  {
   "cell_type": "code",
   "execution_count": 16,
   "id": "c8c9bb4a",
   "metadata": {},
   "outputs": [
    {
     "name": "stdout",
     "output_type": "stream",
     "text": [
      "True\n",
      "False\n",
      "False\n",
      "True\n",
      "False\n",
      "True\n"
     ]
    }
   ],
   "source": [
    "print(dolar > real)\n",
    "print(dolar < real)\n",
    "print(dolar == real)\n",
    "print(dolar >= real)\n",
    "print(dolar <= real)\n",
    "print(dolar != real)"
   ]
  },
  {
   "cell_type": "code",
   "execution_count": null,
   "id": "5e28a49d",
   "metadata": {},
   "outputs": [],
   "source": [
    "# Input & Casting"
   ]
  },
  {
   "cell_type": "code",
   "execution_count": 18,
   "id": "4c0b09a0",
   "metadata": {},
   "outputs": [
    {
     "name": "stdout",
     "output_type": "stream",
     "text": [
      "Informe a sua idade: 32\n",
      "32 <class 'str'>\n"
     ]
    }
   ],
   "source": [
    "idade = input(\"Informe a sua idade: \")\n",
    "print(idade, type(idade))"
   ]
  },
  {
   "cell_type": "code",
   "execution_count": 19,
   "id": "c198b550",
   "metadata": {},
   "outputs": [
    {
     "name": "stdout",
     "output_type": "stream",
     "text": [
      "32 <class 'int'>\n"
     ]
    }
   ],
   "source": [
    "idade = int(idade)\n",
    "print(idade, type(idade))"
   ]
  },
  {
   "cell_type": "code",
   "execution_count": 20,
   "id": "32ab97ee",
   "metadata": {},
   "outputs": [
    {
     "name": "stdout",
     "output_type": "stream",
     "text": [
      "123.25\n",
      "123.25\n",
      "False\n",
      "True\n",
      "False\n",
      "True\n"
     ]
    }
   ],
   "source": [
    "print(float(\"123.25\"))\n",
    "print(str(123.25))\n",
    "print(bool(''))\n",
    "print(bool('abc'))\n",
    "print(bool(0))\n",
    "print(bool(-2))"
   ]
  },
  {
   "cell_type": "code",
   "execution_count": 21,
   "id": "bf73c263",
   "metadata": {},
   "outputs": [
    {
     "name": "stdout",
     "output_type": "stream",
     "text": [
      "Digite o valor do seu salário mensal: 1212\n",
      "Digite o valor do seu gasto mensal em média: 1000\n",
      "O montante que você pode economizar ao final do ano é de:  2544.0\n"
     ]
    }
   ],
   "source": [
    "salario_mensal = input(\"Digite o valor do seu salário mensal: \")\n",
    "salario_mensal = float(salario_mensal)\n",
    "\n",
    "gasto_mensal = input(\"Digite o valor do seu gasto mensal em média: \")\n",
    "gasto_mensal = float(gasto_mensal)\n",
    "\n",
    "salario_total = salario_mensal * 12\n",
    "gasto_total = gasto_mensal * 12\n",
    "\n",
    "montante_economizado = salario_total - gasto_total\n",
    "print(\"O montante que você pode economizar ao final do ano é de: R$\", montante_economizado)"
   ]
  },
  {
   "cell_type": "code",
   "execution_count": null,
   "id": "509fb953",
   "metadata": {},
   "outputs": [],
   "source": [
    "# Estruturas Condicionais"
   ]
  },
  {
   "cell_type": "code",
   "execution_count": 41,
   "id": "88e9e3e2",
   "metadata": {},
   "outputs": [
    {
     "name": "stdout",
     "output_type": "stream",
     "text": [
      "Qual é o valor da corrida? 30\n"
     ]
    }
   ],
   "source": [
    "valor_passagem =  6.60\n",
    "\n",
    "valor_corrida = input(\"Qual é o valor da corrida? \")\n",
    "\n",
    "if float(valor_corrida) <= valor_passagem * 2.515:\n",
    "    print(\"Pegue o corrida\")"
   ]
  },
  {
   "cell_type": "code",
   "execution_count": 42,
   "id": "39567821",
   "metadata": {},
   "outputs": [
    {
     "name": "stdout",
     "output_type": "stream",
     "text": [
      "Qual é o valor da corrida? 30\n",
      "Pegue o ônibus\n"
     ]
    }
   ],
   "source": [
    "valor_passagem =  6.60\n",
    "\n",
    "valor_corrida = input(\"Qual é o valor da corrida? \")\n",
    "\n",
    "if float(valor_corrida) <= valor_passagem * 2.515:\n",
    "    print(\"Pegue o corrida\")\n",
    "if float(valor_corrida) > valor_passagem * 2.515:\n",
    "    print(\"Pegue o ônibus\")"
   ]
  },
  {
   "cell_type": "code",
   "execution_count": 43,
   "id": "e12753a4",
   "metadata": {},
   "outputs": [
    {
     "name": "stdout",
     "output_type": "stream",
     "text": [
      "Qual é o valor da corrida? 15\n",
      "Pegue o corrida\n"
     ]
    }
   ],
   "source": [
    "valor_passagem =  6.60\n",
    "\n",
    "valor_corrida = input(\"Qual é o valor da corrida? \")\n",
    "\n",
    "if float(valor_corrida) <= valor_passagem * 2.515:\n",
    "    print(\"Pegue o corrida\")\n",
    "else:\n",
    "    print(\"Pegue o ônibus\")"
   ]
  },
  {
   "cell_type": "code",
   "execution_count": 44,
   "id": "87d92ea8",
   "metadata": {},
   "outputs": [
    {
     "name": "stdout",
     "output_type": "stream",
     "text": [
      "Qual é o valor da corrida? 24\n",
      "Aguarde um momento o valor da passagem pode abaixr!\n"
     ]
    }
   ],
   "source": [
    "valor_passagem =  6.60\n",
    "\n",
    "valor_corrida = input(\"Qual é o valor da corrida? \")\n",
    "\n",
    "if float(valor_corrida) <= valor_passagem * 2.515:\n",
    "    print(\"Pegue o corrida\")\n",
    "else:\n",
    "    if float(valor_corrida) <= valor_passagem * 4:\n",
    "        print(\"Aguarde um momento o valor da passagem pode abaixr!\")\n",
    "    else:\n",
    "        print(\"Pegue o ônibus\")"
   ]
  },
  {
   "cell_type": "code",
   "execution_count": 45,
   "id": "cb5fcf69",
   "metadata": {},
   "outputs": [
    {
     "name": "stdout",
     "output_type": "stream",
     "text": [
      "Qual é o valor da corrida? 50\n",
      "Pegue o ônibus\n"
     ]
    }
   ],
   "source": [
    "valor_passagem =  6.60\n",
    "\n",
    "valor_corrida = input(\"Qual é o valor da corrida? \")\n",
    "\n",
    "if float(valor_corrida) <= valor_passagem * 2.515:\n",
    "    print(\"Pegue o corrida\")\n",
    "elif float(valor_corrida) <= valor_passagem * 4:\n",
    "    print(\"Aguarde um momento o valor da passagem pode abaixr!\")\n",
    "else:\n",
    "    print(\"Pegue o ônibus\")"
   ]
  },
  {
   "cell_type": "code",
   "execution_count": 46,
   "id": "075ea65f",
   "metadata": {},
   "outputs": [
    {
     "name": "stdout",
     "output_type": "stream",
     "text": [
      "Qual é o valor da corrida? 12\n",
      "Pegue o corrida\n"
     ]
    }
   ],
   "source": [
    "valor_passagem =  6.60\n",
    "\n",
    "valor_corrida = input(\"Qual é o valor da corrida? \")\n",
    "\n",
    "if float(valor_corrida) <= valor_passagem * 2.515:\n",
    "    print(\"Pegue o corrida\")\n",
    "elif float(valor_corrida) <= valor_passagem * 4:\n",
    "    print(\"Aguarde um momento o valor da passagem pode abaixr!\")\n",
    "else:\n",
    "    print(\"Pegue o ônibus\")"
   ]
  },
  {
   "cell_type": "code",
   "execution_count": null,
   "id": "bc5d29a3",
   "metadata": {},
   "outputs": [],
   "source": [
    "# Estruturas de Repetição - While"
   ]
  },
  {
   "cell_type": "code",
   "execution_count": 47,
   "id": "bb84a1dd",
   "metadata": {},
   "outputs": [
    {
     "name": "stdout",
     "output_type": "stream",
     "text": [
      "1 Item limpo\n",
      "2 Itens limpos\n",
      "3 Itens limpos\n",
      "4 Itens limpos\n",
      "5 Itens limpos\n",
      "6 Itens limpos\n",
      "7 Itens limpos\n",
      "8 Itens limpos\n",
      "9 Itens limpos\n",
      "10 Itens limpos\n",
      "Fim da repertição do bloco while\n"
     ]
    }
   ],
   "source": [
    "contador = 0\n",
    "\n",
    "while contador <  10:\n",
    "    contador = contador + 1\n",
    "    if contador == 1:\n",
    "        print(contador, \"item limpo\")\n",
    "    else:\n",
    "        print(contador, \"itens limpos\")\n",
    "        \n",
    "print(\"Fim da repertição do bloco while\")"
   ]
  },
  {
   "cell_type": "code",
   "execution_count": 48,
   "id": "c3ef2ace",
   "metadata": {},
   "outputs": [
    {
     "name": "stdout",
     "output_type": "stream",
     "text": [
      "1 item limpo\n",
      "2 itens limpos\n",
      "3 itens limpos\n",
      "4 itens limpos\n",
      "5 itens limpos\n",
      "6 itens limpos\n",
      "7 itens limpos\n",
      "8 itens limpos\n",
      "9 itens limpos\n",
      "10 itens limpos\n",
      "Fim da repertição do bloco while\n"
     ]
    }
   ],
   "source": [
    "contador = 0\n",
    "\n",
    "while True:\n",
    "    if(contador < 10):\n",
    "        contador = contador + 1\n",
    "        if contador == 1:\n",
    "            print(contador, \"item limpo\")\n",
    "        else:\n",
    "            print(contador, \"itens limpos\")\n",
    "    else:\n",
    "        break\n",
    "        \n",
    "print(\"Fim da repertição do bloco while\")"
   ]
  },
  {
   "cell_type": "code",
   "execution_count": 49,
   "id": "08d7defa",
   "metadata": {},
   "outputs": [
    {
     "name": "stdout",
     "output_type": "stream",
     "text": [
      "Digite a sua senha: 123\n",
      "Senha Invalida! Tente novamente.12345\n",
      "Senha Invalida! Tente novamente.1234567\n",
      "Senha Invalida! Tente novamente.123456789\n",
      "Senha Invalida! Tente novamente.letscode\n",
      "Acesso permitido.\n"
     ]
    }
   ],
   "source": [
    "texto = input(\"Digite a sua senha: \")\n",
    "\n",
    "while texto != \"letscode\":\n",
    "    texto =  input(\"Senha Invalida! Tente novamente.\")\n",
    "    \n",
    "print(\"Acesso permitido.\")"
   ]
  },
  {
   "cell_type": "code",
   "execution_count": 51,
   "id": "3d9902e2",
   "metadata": {},
   "outputs": [
    {
     "name": "stdout",
     "output_type": "stream",
     "text": [
      "2 itens limpos\n",
      "3 itens limpos\n",
      "4 itens limpos\n",
      "5 itens limpos\n",
      "6 itens limpos\n",
      "7 itens limpos\n",
      "8 itens limpos\n",
      "9 itens limpos\n",
      "10 itens limpos\n",
      "Fim da repertição do bloco while\n"
     ]
    }
   ],
   "source": [
    "contador = 0\n",
    "\n",
    "while contador <  10:\n",
    "    contador = contador + 1\n",
    "    if contador == 1:\n",
    "        continue    #exceto\n",
    "    print(contador, \"itens limpos\")\n",
    "        \n",
    "print(\"Fim da repertição do bloco while\")"
   ]
  }
 ],
 "metadata": {
  "kernelspec": {
   "display_name": "Python 3 (ipykernel)",
   "language": "python",
   "name": "python3"
  },
  "language_info": {
   "codemirror_mode": {
    "name": "ipython",
    "version": 3
   },
   "file_extension": ".py",
   "mimetype": "text/x-python",
   "name": "python",
   "nbconvert_exporter": "python",
   "pygments_lexer": "ipython3",
   "version": "3.10.4"
  }
 },
 "nbformat": 4,
 "nbformat_minor": 5
}
