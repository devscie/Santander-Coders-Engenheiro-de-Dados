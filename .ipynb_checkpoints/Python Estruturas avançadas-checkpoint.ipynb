{
 "cells": [
  {
   "cell_type": "code",
   "execution_count": null,
   "id": "d79dc000",
   "metadata": {},
   "outputs": [],
   "source": [
    "# Listas e Tuplas"
   ]
  },
  {
   "cell_type": "code",
   "execution_count": 1,
   "id": "b05774bf",
   "metadata": {},
   "outputs": [
    {
     "name": "stdout",
     "output_type": "stream",
     "text": [
      "['Brasil', 'Argentina', 'China', 'Canada', ' Japão']\n"
     ]
    }
   ],
   "source": [
    "nomes_paises = ['Brasil', 'Argentina', 'China', 'Canada', ' Japão']\n",
    "print(nomes_paises)"
   ]
  },
  {
   "cell_type": "code",
   "execution_count": 2,
   "id": "31e5f7a2",
   "metadata": {},
   "outputs": [
    {
     "name": "stdout",
     "output_type": "stream",
     "text": [
      "Tamanho lista  5\n"
     ]
    }
   ],
   "source": [
    "print(\"Tamanho da lista \", len(nomes_paises))"
   ]
  },
  {
   "cell_type": "code",
   "execution_count": 3,
   "id": "38fd5b0b",
   "metadata": {},
   "outputs": [
    {
     "name": "stdout",
     "output_type": "stream",
     "text": [
      "País   Japão\n"
     ]
    }
   ],
   "source": [
    "print(\"País \", nomes_paises[4])"
   ]
  },
  {
   "cell_type": "code",
   "execution_count": 4,
   "id": "24c75254",
   "metadata": {},
   "outputs": [
    {
     "name": "stdout",
     "output_type": "stream",
     "text": [
      "País   Japão\n"
     ]
    }
   ],
   "source": [
    "print(\"País \", nomes_paises[-1])"
   ]
  },
  {
   "cell_type": "code",
   "execution_count": 5,
   "id": "9390bc7d",
   "metadata": {},
   "outputs": [
    {
     "name": "stdout",
     "output_type": "stream",
     "text": [
      "Colômbia\n",
      "['Brasil', 'Argentina', 'China', 'Canada', 'Colômbia']\n"
     ]
    }
   ],
   "source": [
    "nomes_paises[4] = 'Colômbia'\n",
    "print(nomes_paises[4])\n",
    "print(nomes_paises)"
   ]
  },
  {
   "cell_type": "code",
   "execution_count": null,
   "id": "9c965219",
   "metadata": {},
   "outputs": [],
   "source": [
    "# Slice"
   ]
  },
  {
   "cell_type": "code",
   "execution_count": 6,
   "id": "05a02555",
   "metadata": {},
   "outputs": [
    {
     "name": "stdout",
     "output_type": "stream",
     "text": [
      "['Argentina', 'China']\n"
     ]
    }
   ],
   "source": [
    "print(nomes_paises[1:3])"
   ]
  },
  {
   "cell_type": "code",
   "execution_count": 7,
   "id": "078d59fe",
   "metadata": {},
   "outputs": [
    {
     "name": "stdout",
     "output_type": "stream",
     "text": [
      "['Argentina', 'China', 'Canada']\n"
     ]
    }
   ],
   "source": [
    "print(nomes_paises[1:-1])"
   ]
  },
  {
   "cell_type": "code",
   "execution_count": 8,
   "id": "cbad8df2",
   "metadata": {},
   "outputs": [
    {
     "name": "stdout",
     "output_type": "stream",
     "text": [
      "['China', 'Canada', 'Colômbia']\n"
     ]
    }
   ],
   "source": [
    "print(nomes_paises[2:])"
   ]
  },
  {
   "cell_type": "code",
   "execution_count": 9,
   "id": "ec79e8c1",
   "metadata": {},
   "outputs": [
    {
     "name": "stdout",
     "output_type": "stream",
     "text": [
      "['Brasil', 'Argentina', 'China']\n"
     ]
    }
   ],
   "source": [
    "print(nomes_paises[:3])"
   ]
  },
  {
   "cell_type": "code",
   "execution_count": 10,
   "id": "2bc0c4bd",
   "metadata": {},
   "outputs": [
    {
     "name": "stdout",
     "output_type": "stream",
     "text": [
      "['Brasil', 'Argentina', 'China', 'Canada', 'Colômbia']\n"
     ]
    }
   ],
   "source": [
    "print(nomes_paises[:])"
   ]
  },
  {
   "cell_type": "code",
   "execution_count": 11,
   "id": "02546dc7",
   "metadata": {},
   "outputs": [
    {
     "name": "stdout",
     "output_type": "stream",
     "text": [
      "['Brasil', 'China', 'Colômbia']\n"
     ]
    }
   ],
   "source": [
    "print(nomes_paises[::2])"
   ]
  },
  {
   "cell_type": "code",
   "execution_count": 12,
   "id": "d916dc16",
   "metadata": {},
   "outputs": [
    {
     "name": "stdout",
     "output_type": "stream",
     "text": [
      "['Colômbia', 'Canada', 'China', 'Argentina', 'Brasil']\n"
     ]
    }
   ],
   "source": [
    "print(nomes_paises[::-1])"
   ]
  },
  {
   "cell_type": "code",
   "execution_count": 13,
   "id": "707e58f5",
   "metadata": {},
   "outputs": [
    {
     "name": "stdout",
     "output_type": "stream",
     "text": [
      "True\n"
     ]
    }
   ],
   "source": [
    "print(\"Brasil\" in nomes_paises)"
   ]
  },
  {
   "cell_type": "code",
   "execution_count": 14,
   "id": "867134b8",
   "metadata": {},
   "outputs": [
    {
     "name": "stdout",
     "output_type": "stream",
     "text": [
      "False\n"
     ]
    }
   ],
   "source": [
    "print(\"Japão\" in nomes_paises)"
   ]
  },
  {
   "cell_type": "code",
   "execution_count": 15,
   "id": "deb96f5a",
   "metadata": {},
   "outputs": [],
   "source": [
    "lista_capitais = []\n",
    "\n",
    "lista_capitais.append(\"Brasilia\")\n",
    "lista_capitais.append(\"Buenos Aires\")\n",
    "lista_capitais.append(\"Bogota\")\n",
    "lista_capitais.append(\"Berlim\")"
   ]
  },
  {
   "cell_type": "code",
   "execution_count": 16,
   "id": "9e8e0814",
   "metadata": {},
   "outputs": [
    {
     "name": "stdout",
     "output_type": "stream",
     "text": [
      "['Brasilia', 'Buenos Aires', 'Bogota', 'Berlim']\n"
     ]
    }
   ],
   "source": [
    "print(lista_capitais)"
   ]
  },
  {
   "cell_type": "code",
   "execution_count": 18,
   "id": "2b9bfdb7",
   "metadata": {},
   "outputs": [
    {
     "name": "stdout",
     "output_type": "stream",
     "text": [
      "['Bangkok', 'Brasilia', 'Buenos Aires', 'Bogota', 'Berlim']\n"
     ]
    }
   ],
   "source": [
    "lista_capitais.insert(0, \"Bangkok\")\n",
    "\n",
    "print(lista_capitais)"
   ]
  },
  {
   "cell_type": "code",
   "execution_count": 19,
   "id": "07a2bb5a",
   "metadata": {},
   "outputs": [
    {
     "name": "stdout",
     "output_type": "stream",
     "text": [
      "['Bangkok', 'Brasilia', 'Buenos Aires', 'Bogota', 'Budapeste', 'Berlim']\n"
     ]
    }
   ],
   "source": [
    "lista_capitais.insert(-1, \"Budapeste\")\n",
    "\n",
    "print(lista_capitais)"
   ]
  },
  {
   "cell_type": "code",
   "execution_count": 20,
   "id": "176b9f88",
   "metadata": {},
   "outputs": [
    {
     "name": "stdout",
     "output_type": "stream",
     "text": [
      "['Bangkok', 'Brasilia', 'Bogota', 'Budapeste', 'Berlim']\n"
     ]
    }
   ],
   "source": [
    "lista_capitais.remove(\"Buenos Aires\")\n",
    "\n",
    "print(lista_capitais)"
   ]
  },
  {
   "cell_type": "code",
   "execution_count": 21,
   "id": "4ed6cd2d",
   "metadata": {},
   "outputs": [
    {
     "name": "stdout",
     "output_type": "stream",
     "text": [
      "['Bangkok', 'Brasilia', 'Bogota', 'Budapeste'] Berlim\n"
     ]
    }
   ],
   "source": [
    "capital_removida = lista_capitais.pop(-1)\n",
    "print(lista_capitais, capital_removida)"
   ]
  },
  {
   "cell_type": "code",
   "execution_count": 22,
   "id": "e9fee32f",
   "metadata": {},
   "outputs": [
    {
     "name": "stdout",
     "output_type": "stream",
     "text": [
      "['Brasilia', 'Bogota', 'Budapeste'] Bangkok\n"
     ]
    }
   ],
   "source": [
    "capital_removida = lista_capitais.pop(0)\n",
    "print(lista_capitais, capital_removida)"
   ]
  },
  {
   "cell_type": "code",
   "execution_count": 24,
   "id": "66e50e07",
   "metadata": {},
   "outputs": [
    {
     "name": "stdout",
     "output_type": "stream",
     "text": [
      "('Brasil', 'Russia', 'India', 'China', 'Africa do Sul') <class 'tuple'>\n"
     ]
    }
   ],
   "source": [
    "nomes_paises = ('Brasil', 'Russia', 'India', 'China', 'Africa do Sul')\n",
    "print(nomes_paises, type(nomes_paises))"
   ]
  },
  {
   "cell_type": "code",
   "execution_count": 25,
   "id": "0cc3a0a7",
   "metadata": {},
   "outputs": [
    {
     "name": "stdout",
     "output_type": "stream",
     "text": [
      "('Brasil', 'Russia', 'India', 'China', 'Africa do Sul') <class 'tuple'>\n"
     ]
    }
   ],
   "source": [
    "nomes_paises = 'Brasil', 'Russia', 'India', 'China', 'Africa do Sul'\n",
    "print(nomes_paises, type(nomes_paises))"
   ]
  },
  {
   "cell_type": "code",
   "execution_count": 26,
   "id": "645dd351",
   "metadata": {},
   "outputs": [
    {
     "name": "stdout",
     "output_type": "stream",
     "text": [
      "('São Paulo',) <class 'tuple'>\n"
     ]
    }
   ],
   "source": [
    "nomes_estados = 'São Paulo', #tupla de um elemento\n",
    "print(nomes_estados, type(nomes_estados))"
   ]
  },
  {
   "cell_type": "code",
   "execution_count": 27,
   "id": "fca331d7",
   "metadata": {},
   "outputs": [
    {
     "data": {
      "text/plain": [
       "5"
      ]
     },
     "execution_count": 27,
     "metadata": {},
     "output_type": "execute_result"
    }
   ],
   "source": [
    "len(nomes_paises)"
   ]
  },
  {
   "cell_type": "code",
   "execution_count": 28,
   "id": "dc5e0e29",
   "metadata": {},
   "outputs": [
    {
     "data": {
      "text/plain": [
       "'Brasil'"
      ]
     },
     "execution_count": 28,
     "metadata": {},
     "output_type": "execute_result"
    }
   ],
   "source": [
    "nomes_paises[0]"
   ]
  },
  {
   "cell_type": "code",
   "execution_count": 29,
   "id": "a6cadb4d",
   "metadata": {},
   "outputs": [
    {
     "name": "stdout",
     "output_type": "stream",
     "text": [
      "Brasil India Africa do Sul\n"
     ]
    }
   ],
   "source": [
    "b, a, c, ca, j = nomes_paises #unpackage\n",
    "print(b, c, j)"
   ]
  },
  {
   "cell_type": "code",
   "execution_count": 30,
   "id": "cd78f652",
   "metadata": {},
   "outputs": [
    {
     "name": "stdout",
     "output_type": "stream",
     "text": [
      "Brasil Russia India China Africa do Sul\n"
     ]
    }
   ],
   "source": [
    "print(*nomes_paises) # print item a item da tupla"
   ]
  },
  {
   "cell_type": "code",
   "execution_count": null,
   "id": "9651de2d",
   "metadata": {},
   "outputs": [],
   "source": []
  }
 ],
 "metadata": {
  "kernelspec": {
   "display_name": "Python 3 (ipykernel)",
   "language": "python",
   "name": "python3"
  },
  "language_info": {
   "codemirror_mode": {
    "name": "ipython",
    "version": 3
   },
   "file_extension": ".py",
   "mimetype": "text/x-python",
   "name": "python",
   "nbconvert_exporter": "python",
   "pygments_lexer": "ipython3",
   "version": "3.10.4"
  }
 },
 "nbformat": 4,
 "nbformat_minor": 5
}
