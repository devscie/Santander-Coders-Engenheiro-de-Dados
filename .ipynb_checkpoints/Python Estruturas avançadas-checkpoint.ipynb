{
 "cells": [
  {
   "cell_type": "code",
   "execution_count": 1,
   "id": "84455368",
   "metadata": {},
   "outputs": [],
   "source": [
    "# Listas e Tuplas"
   ]
  },
  {
   "cell_type": "code",
   "execution_count": 2,
   "id": "47cb4835",
   "metadata": {},
   "outputs": [
    {
     "name": "stdout",
     "output_type": "stream",
     "text": [
      "['Brasil', 'Argentina', 'China', 'Canada', ' Japão']\n"
     ]
    }
   ],
   "source": [
    "nomes_paises = ['Brasil', 'Argentina', 'China', 'Canada', ' Japão']\n",
    "print(nomes_paises)"
   ]
  },
  {
   "cell_type": "code",
   "execution_count": 3,
   "id": "c5544965",
   "metadata": {},
   "outputs": [
    {
     "name": "stdout",
     "output_type": "stream",
     "text": [
      "Tamanho da lista  5\n"
     ]
    }
   ],
   "source": [
    "print(\"Tamanho da lista \", len(nomes_paises))"
   ]
  },
  {
   "cell_type": "code",
   "execution_count": 4,
   "id": "9e4893b6",
   "metadata": {},
   "outputs": [
    {
     "name": "stdout",
     "output_type": "stream",
     "text": [
      "País   Japão\n"
     ]
    }
   ],
   "source": [
    "print(\"País \", nomes_paises[4])"
   ]
  },
  {
   "cell_type": "code",
   "execution_count": 5,
   "id": "09ca3492",
   "metadata": {},
   "outputs": [
    {
     "name": "stdout",
     "output_type": "stream",
     "text": [
      "País   Japão\n"
     ]
    }
   ],
   "source": [
    "print(\"País \", nomes_paises[-1])"
   ]
  },
  {
   "cell_type": "code",
   "execution_count": 6,
   "id": "62948775",
   "metadata": {},
   "outputs": [
    {
     "name": "stdout",
     "output_type": "stream",
     "text": [
      "Colômbia\n",
      "['Brasil', 'Argentina', 'China', 'Canada', 'Colômbia']\n"
     ]
    }
   ],
   "source": [
    "nomes_paises[4] = 'Colômbia'\n",
    "print(nomes_paises[4])\n",
    "print(nomes_paises)"
   ]
  },
  {
   "cell_type": "code",
   "execution_count": 7,
   "id": "6fe49374",
   "metadata": {},
   "outputs": [],
   "source": [
    "# Slice"
   ]
  },
  {
   "cell_type": "code",
   "execution_count": 8,
   "id": "d0d4a04b",
   "metadata": {},
   "outputs": [
    {
     "name": "stdout",
     "output_type": "stream",
     "text": [
      "['Argentina', 'China']\n"
     ]
    }
   ],
   "source": [
    "print(nomes_paises[1:3])"
   ]
  },
  {
   "cell_type": "code",
   "execution_count": 9,
   "id": "0a11b040",
   "metadata": {},
   "outputs": [
    {
     "name": "stdout",
     "output_type": "stream",
     "text": [
      "['Argentina', 'China', 'Canada']\n"
     ]
    }
   ],
   "source": [
    "print(nomes_paises[1:-1])"
   ]
  },
  {
   "cell_type": "code",
   "execution_count": 10,
   "id": "b6269481",
   "metadata": {},
   "outputs": [
    {
     "name": "stdout",
     "output_type": "stream",
     "text": [
      "['China', 'Canada', 'Colômbia']\n"
     ]
    }
   ],
   "source": [
    "print(nomes_paises[2:])"
   ]
  },
  {
   "cell_type": "code",
   "execution_count": 11,
   "id": "2ff44c5f",
   "metadata": {},
   "outputs": [
    {
     "name": "stdout",
     "output_type": "stream",
     "text": [
      "['Brasil', 'Argentina', 'China']\n"
     ]
    }
   ],
   "source": [
    "print(nomes_paises[:3])"
   ]
  },
  {
   "cell_type": "code",
   "execution_count": 12,
   "id": "c03c7699",
   "metadata": {},
   "outputs": [
    {
     "name": "stdout",
     "output_type": "stream",
     "text": [
      "['Brasil', 'Argentina', 'China', 'Canada', 'Colômbia']\n"
     ]
    }
   ],
   "source": [
    "print(nomes_paises[:])"
   ]
  },
  {
   "cell_type": "code",
   "execution_count": 13,
   "id": "42d99ffb",
   "metadata": {},
   "outputs": [
    {
     "name": "stdout",
     "output_type": "stream",
     "text": [
      "['Brasil', 'China', 'Colômbia']\n"
     ]
    }
   ],
   "source": [
    "print(nomes_paises[::2])"
   ]
  },
  {
   "cell_type": "code",
   "execution_count": 14,
   "id": "f85f183b",
   "metadata": {},
   "outputs": [
    {
     "name": "stdout",
     "output_type": "stream",
     "text": [
      "['Colômbia', 'Canada', 'China', 'Argentina', 'Brasil']\n"
     ]
    }
   ],
   "source": [
    "print(nomes_paises[::-1])"
   ]
  },
  {
   "cell_type": "code",
   "execution_count": 15,
   "id": "edf153aa",
   "metadata": {},
   "outputs": [
    {
     "name": "stdout",
     "output_type": "stream",
     "text": [
      "True\n"
     ]
    }
   ],
   "source": [
    "print(\"Brasil\" in nomes_paises)"
   ]
  },
  {
   "cell_type": "code",
   "execution_count": 16,
   "id": "fc578c44",
   "metadata": {},
   "outputs": [
    {
     "name": "stdout",
     "output_type": "stream",
     "text": [
      "False\n"
     ]
    }
   ],
   "source": [
    "print(\"Japão\" in nomes_paises)"
   ]
  },
  {
   "cell_type": "code",
   "execution_count": 17,
   "id": "8c187f9a",
   "metadata": {},
   "outputs": [],
   "source": [
    "lista_capitais = []\n",
    "\n",
    "lista_capitais.append(\"Brasilia\")\n",
    "lista_capitais.append(\"Buenos Aires\")\n",
    "lista_capitais.append(\"Bogota\")\n",
    "lista_capitais.append(\"Berlim\")"
   ]
  },
  {
   "cell_type": "code",
   "execution_count": 18,
   "id": "fb815abd",
   "metadata": {},
   "outputs": [
    {
     "name": "stdout",
     "output_type": "stream",
     "text": [
      "['Brasilia', 'Buenos Aires', 'Bogota', 'Berlim']\n"
     ]
    }
   ],
   "source": [
    "print(lista_capitais)"
   ]
  },
  {
   "cell_type": "code",
   "execution_count": 19,
   "id": "9a1b1b45",
   "metadata": {},
   "outputs": [
    {
     "name": "stdout",
     "output_type": "stream",
     "text": [
      "['Bangkok', 'Brasilia', 'Buenos Aires', 'Bogota', 'Berlim']\n"
     ]
    }
   ],
   "source": [
    "lista_capitais.insert(0, \"Bangkok\")\n",
    "\n",
    "print(lista_capitais)"
   ]
  },
  {
   "cell_type": "code",
   "execution_count": 20,
   "id": "e38247e0",
   "metadata": {},
   "outputs": [
    {
     "name": "stdout",
     "output_type": "stream",
     "text": [
      "['Bangkok', 'Brasilia', 'Buenos Aires', 'Bogota', 'Budapeste', 'Berlim']\n"
     ]
    }
   ],
   "source": [
    "lista_capitais.insert(-1, \"Budapeste\")\n",
    "\n",
    "print(lista_capitais)"
   ]
  },
  {
   "cell_type": "code",
   "execution_count": 21,
   "id": "2b0b8ab3",
   "metadata": {},
   "outputs": [
    {
     "name": "stdout",
     "output_type": "stream",
     "text": [
      "['Bangkok', 'Brasilia', 'Bogota', 'Budapeste', 'Berlim']\n"
     ]
    }
   ],
   "source": [
    "lista_capitais.remove(\"Buenos Aires\")\n",
    "\n",
    "print(lista_capitais)"
   ]
  },
  {
   "cell_type": "code",
   "execution_count": 22,
   "id": "5da23058",
   "metadata": {},
   "outputs": [
    {
     "name": "stdout",
     "output_type": "stream",
     "text": [
      "['Bangkok', 'Brasilia', 'Bogota', 'Budapeste'] Berlim\n"
     ]
    }
   ],
   "source": [
    "capital_removida = lista_capitais.pop(-1)\n",
    "print(lista_capitais, capital_removida)"
   ]
  },
  {
   "cell_type": "code",
   "execution_count": 23,
   "id": "a38dbc44",
   "metadata": {},
   "outputs": [
    {
     "name": "stdout",
     "output_type": "stream",
     "text": [
      "['Brasilia', 'Bogota', 'Budapeste'] Bangkok\n"
     ]
    }
   ],
   "source": [
    "capital_removida = lista_capitais.pop(0)\n",
    "print(lista_capitais, capital_removida)"
   ]
  },
  {
   "cell_type": "code",
   "execution_count": 24,
   "id": "7679356c",
   "metadata": {},
   "outputs": [
    {
     "name": "stdout",
     "output_type": "stream",
     "text": [
      "('Brasil', 'Russia', 'India', 'China', 'Africa do Sul') <class 'tuple'>\n"
     ]
    }
   ],
   "source": [
    "nomes_paises = ('Brasil', 'Russia', 'India', 'China', 'Africa do Sul')\n",
    "print(nomes_paises, type(nomes_paises))"
   ]
  },
  {
   "cell_type": "code",
   "execution_count": 25,
   "id": "54703173",
   "metadata": {},
   "outputs": [
    {
     "name": "stdout",
     "output_type": "stream",
     "text": [
      "('Brasil', 'Russia', 'India', 'China', 'Africa do Sul') <class 'tuple'>\n"
     ]
    }
   ],
   "source": [
    "nomes_paises = 'Brasil', 'Russia', 'India', 'China', 'Africa do Sul'\n",
    "print(nomes_paises, type(nomes_paises))"
   ]
  },
  {
   "cell_type": "code",
   "execution_count": 26,
   "id": "1fec2ea2",
   "metadata": {},
   "outputs": [
    {
     "name": "stdout",
     "output_type": "stream",
     "text": [
      "('São Paulo',) <class 'tuple'>\n"
     ]
    }
   ],
   "source": [
    "nomes_estados = 'São Paulo', #tupla de um elemento\n",
    "print(nomes_estados, type(nomes_estados))"
   ]
  },
  {
   "cell_type": "code",
   "execution_count": 27,
   "id": "8e620377",
   "metadata": {},
   "outputs": [
    {
     "data": {
      "text/plain": [
       "5"
      ]
     },
     "execution_count": 27,
     "metadata": {},
     "output_type": "execute_result"
    }
   ],
   "source": [
    "len(nomes_paises)"
   ]
  },
  {
   "cell_type": "code",
   "execution_count": 28,
   "id": "4fefec4e",
   "metadata": {},
   "outputs": [
    {
     "data": {
      "text/plain": [
       "'Brasil'"
      ]
     },
     "execution_count": 28,
     "metadata": {},
     "output_type": "execute_result"
    }
   ],
   "source": [
    "nomes_paises[0]"
   ]
  },
  {
   "cell_type": "code",
   "execution_count": 29,
   "id": "49645ece",
   "metadata": {},
   "outputs": [
    {
     "name": "stdout",
     "output_type": "stream",
     "text": [
      "Brasil India Africa do Sul\n"
     ]
    }
   ],
   "source": [
    "b, a, c, ca, j = nomes_paises #unpackage\n",
    "print(b, c, j)"
   ]
  },
  {
   "cell_type": "code",
   "execution_count": 30,
   "id": "a16239cc",
   "metadata": {},
   "outputs": [
    {
     "name": "stdout",
     "output_type": "stream",
     "text": [
      "Brasil Russia India China Africa do Sul\n"
     ]
    }
   ],
   "source": [
    "print(*nomes_paises) # print item a item da tupla"
   ]
  },
  {
   "cell_type": "code",
   "execution_count": 31,
   "id": "3a715810",
   "metadata": {},
   "outputs": [],
   "source": [
    "# Strings I"
   ]
  },
  {
   "cell_type": "code",
   "execution_count": 32,
   "id": "7eda81f7",
   "metadata": {},
   "outputs": [
    {
     "name": "stdout",
     "output_type": "stream",
     "text": [
      "Google\n"
     ]
    }
   ],
   "source": [
    "empresa = 'Google'\n",
    "print(empresa)"
   ]
  },
  {
   "cell_type": "code",
   "execution_count": 33,
   "id": "eb0b9fda",
   "metadata": {},
   "outputs": [
    {
     "name": "stdout",
     "output_type": "stream",
     "text": [
      "Google\n"
     ]
    }
   ],
   "source": [
    "empresa = \"Google\"\n",
    "print(empresa)"
   ]
  },
  {
   "cell_type": "code",
   "execution_count": 34,
   "id": "eb23d813",
   "metadata": {},
   "outputs": [
    {
     "name": "stdout",
     "output_type": "stream",
     "text": [
      "Let's Code\n"
     ]
    }
   ],
   "source": [
    "empresa = \"Let's Code\"\n",
    "print(empresa)"
   ]
  },
  {
   "cell_type": "code",
   "execution_count": 35,
   "id": "59cdbf3b",
   "metadata": {},
   "outputs": [
    {
     "name": "stdout",
     "output_type": "stream",
     "text": [
      "O professor João da Escola disse: \"Hoje o lanche é por minha conta\"\n"
     ]
    }
   ],
   "source": [
    "#caractere de escape (contra barra)\n",
    "\n",
    "frase = \"O professor João da Escola disse: \\\"Hoje o lanche é por minha conta\\\"\"\n",
    "print(frase)"
   ]
  },
  {
   "cell_type": "code",
   "execution_count": 36,
   "id": "c5699e26",
   "metadata": {},
   "outputs": [
    {
     "name": "stdout",
     "output_type": "stream",
     "text": [
      "G\n"
     ]
    }
   ],
   "source": [
    "empresa = \"Google\"\n",
    "print(empresa[0])"
   ]
  },
  {
   "cell_type": "code",
   "execution_count": 37,
   "id": "5986ab91",
   "metadata": {},
   "outputs": [
    {
     "name": "stdout",
     "output_type": "stream",
     "text": [
      "Goo\n"
     ]
    }
   ],
   "source": [
    "print(empresa[:3])"
   ]
  },
  {
   "cell_type": "code",
   "execution_count": 38,
   "id": "270d3dd2",
   "metadata": {},
   "outputs": [
    {
     "name": "stdout",
     "output_type": "stream",
     "text": [
      "São Paulo, Belo Horizonte, Rio de Janeiro, Brasília\n"
     ]
    }
   ],
   "source": [
    "nomes_cidades = \"São Paulo, Belo Horizonte, Rio de Janeiro, Brasília\"\n",
    "print(nomes_cidades)"
   ]
  },
  {
   "cell_type": "code",
   "execution_count": 39,
   "id": "a7d7c433",
   "metadata": {},
   "outputs": [
    {
     "name": "stdout",
     "output_type": "stream",
     "text": [
      "['São Paulo', 'Belo Horizonte', 'Rio de Janeiro', 'Brasília']\n"
     ]
    }
   ],
   "source": [
    "# quebrar string\n",
    "nomes_cidades = \"São Paulo, Belo Horizonte, Rio de Janeiro, Brasília\"\n",
    "nomes_cidades = nomes_cidades.split(', ')\n",
    "print(nomes_cidades)"
   ]
  },
  {
   "cell_type": "code",
   "execution_count": 40,
   "id": "bf5b3e24",
   "metadata": {},
   "outputs": [
    {
     "name": "stdout",
     "output_type": "stream",
     "text": [
      "MENU PRINCIPAL\n"
     ]
    }
   ],
   "source": [
    "# eliminar espaços extra da string\n",
    "cabecalho = \"         MENU PRINCIPAL        \"\n",
    "print(cabecalho.strip())"
   ]
  },
  {
   "cell_type": "code",
   "execution_count": 41,
   "id": "496648cc",
   "metadata": {},
   "outputs": [
    {
     "name": "stdout",
     "output_type": "stream",
     "text": [
      "Rio De Janeiro\n",
      "Rio de janeiro\n",
      "rio de janeiro\n",
      "RIO DE JANEIRO\n"
     ]
    }
   ],
   "source": [
    "nome_cidade = \"rio DE jaNeiro\"\n",
    "\n",
    "print(nome_cidade.title()) #começar cada palavra com letra Maiuscula\n",
    "print(nome_cidade.capitalize()) #começar a palavra com letra Maiuscula\n",
    "print(nome_cidade.lower())\n",
    "print(nome_cidade.upper())"
   ]
  },
  {
   "cell_type": "code",
   "execution_count": 42,
   "id": "7a487b67",
   "metadata": {},
   "outputs": [
    {
     "name": "stdout",
     "output_type": "stream",
     "text": [
      "Que cidade do Brasil é conhecida como cidade maravilhosa?São Paulo\n",
      "Tente outra vez\n",
      "Que cidade do Brasil é conhecida como cidade maravilhosa?Rio de Janeiro\n",
      "Boa, Campeão\n"
     ]
    }
   ],
   "source": [
    "nome_da_cidade = input(\"Que cidade do Brasil é conhecida como cidade maravilhosa?\")\n",
    "nome_da_cidade = nome_da_cidade.strip()\n",
    "while nome_da_cidade.lower() != 'rio de janeiro':\n",
    "    print(\"Tente outra vez\")\n",
    "    nome_da_cidade = input(\"Que cidade do Brasil é conhecida como cidade maravilhosa?\")\n",
    "    \n",
    "print(\"Boa, Campeão\")"
   ]
  },
  {
   "cell_type": "code",
   "execution_count": 43,
   "id": "085dc2bd",
   "metadata": {},
   "outputs": [
    {
     "name": "stdout",
     "output_type": "stream",
     "text": [
      "True\n"
     ]
    }
   ],
   "source": [
    "mensagem = \"Você viu o que o João disse na sala ontem?\"\n",
    "fui_citado = 'João' in mensagem\n",
    "print(fui_citado)"
   ]
  },
  {
   "cell_type": "code",
   "execution_count": 44,
   "id": "01f82648",
   "metadata": {},
   "outputs": [
    {
     "name": "stdout",
     "output_type": "stream",
     "text": [
      "Olá, João\n"
     ]
    }
   ],
   "source": [
    "cumprimento = \"Olá, \"\n",
    "nome = \"João\"\n",
    "print(cumprimento + nome)"
   ]
  },
  {
   "cell_type": "code",
   "execution_count": 45,
   "id": "76c0c61e",
   "metadata": {},
   "outputs": [
    {
     "name": "stdout",
     "output_type": "stream",
     "text": [
      "JoãoJoãoJoãoJoãoJoão\n"
     ]
    }
   ],
   "source": [
    "print(nome * 5)"
   ]
  },
  {
   "cell_type": "code",
   "execution_count": 46,
   "id": "0fbea631",
   "metadata": {},
   "outputs": [
    {
     "name": "stdout",
     "output_type": "stream",
     "text": [
      "Maria tem 30 anos e 2 filhos.\n"
     ]
    }
   ],
   "source": [
    "nome = \"Maria\"\n",
    "idade = 30\n",
    "n_filhos = 2\n",
    "print(nome + \" tem \" + str(idade) + \" anos e \" + str(n_filhos) + \" filhos.\")"
   ]
  },
  {
   "cell_type": "code",
   "execution_count": 47,
   "id": "cf87b902",
   "metadata": {},
   "outputs": [
    {
     "name": "stdout",
     "output_type": "stream",
     "text": [
      "Maria tem 30 anos e 2 filhos.\n"
     ]
    }
   ],
   "source": [
    "print('{} tem {} anos e {} filhos.'.format(nome, idade, n_filhos))"
   ]
  },
  {
   "cell_type": "code",
   "execution_count": 48,
   "id": "ef84f879",
   "metadata": {},
   "outputs": [
    {
     "name": "stdout",
     "output_type": "stream",
     "text": [
      "O preço da gasolina hoje subiu e está em R$ 4.79\n"
     ]
    }
   ],
   "source": [
    "preco_gasolina = 4.789\n",
    "print(\"O preço da gasolina hoje subiu e está em R$ {:.2f}\".format(preco_gasolina))"
   ]
  },
  {
   "cell_type": "code",
   "execution_count": 49,
   "id": "295b3c54",
   "metadata": {},
   "outputs": [
    {
     "name": "stdout",
     "output_type": "stream",
     "text": [
      "Maria tem 30 anos e 2 filhos.\n"
     ]
    }
   ],
   "source": [
    "print(f'{nome} tem {idade} anos e {n_filhos} filhos.')"
   ]
  },
  {
   "cell_type": "code",
   "execution_count": 50,
   "id": "c283b575",
   "metadata": {},
   "outputs": [],
   "source": [
    "#Dicionários"
   ]
  },
  {
   "cell_type": "code",
   "execution_count": 51,
   "id": "77e644a0",
   "metadata": {},
   "outputs": [],
   "source": [
    "# Pares: Chaves e Valores\n",
    "dados_cidade = {\n",
    "    'Estado': 'São Paulo',\n",
    "    'Cidade': 'São Paulo',\n",
    "    'Área Km2': 1521.110,\n",
    "    'População': 12396372\n",
    "}"
   ]
  },
  {
   "cell_type": "code",
   "execution_count": 52,
   "id": "e162b655",
   "metadata": {},
   "outputs": [
    {
     "name": "stdout",
     "output_type": "stream",
     "text": [
      "{'Estado': 'São Paulo', 'Cidade': 'São Paulo', 'Área Km2': 1521.11, 'População': 12396372}\n"
     ]
    }
   ],
   "source": [
    "print(dados_cidade)"
   ]
  },
  {
   "cell_type": "code",
   "execution_count": 53,
   "id": "ea28a68e",
   "metadata": {},
   "outputs": [
    {
     "name": "stdout",
     "output_type": "stream",
     "text": [
      "{'Estado': 'São Paulo', 'Cidade': 'São Paulo', 'Área Km2': 1521.11, 'População': 12396372, 'País': 'Brasil'}\n"
     ]
    }
   ],
   "source": [
    "#Adicionar dados no Dicionário\n",
    "dados_cidade['País'] = 'Brasil'\n",
    "print(dados_cidade)"
   ]
  },
  {
   "cell_type": "code",
   "execution_count": 54,
   "id": "3198608d",
   "metadata": {},
   "outputs": [
    {
     "name": "stdout",
     "output_type": "stream",
     "text": [
      "São Paulo\n"
     ]
    }
   ],
   "source": [
    "print(dados_cidade['Cidade'])"
   ]
  },
  {
   "cell_type": "code",
   "execution_count": 55,
   "id": "567caa35",
   "metadata": {},
   "outputs": [
    {
     "name": "stdout",
     "output_type": "stream",
     "text": [
      "{'Estado': 'SP', 'Cidade': 'São Paulo', 'Área Km2': 1521.11, 'População': 12396372, 'País': 'Brasil'}\n"
     ]
    }
   ],
   "source": [
    "#Alterar dados do Dicionário\n",
    "dados_cidade['Estado'] = 'SP'\n",
    "print(dados_cidade)"
   ]
  },
  {
   "cell_type": "code",
   "execution_count": 56,
   "id": "7e950bdd",
   "metadata": {},
   "outputs": [],
   "source": [
    "dados_cidade2 = dados_cidade"
   ]
  },
  {
   "cell_type": "code",
   "execution_count": 57,
   "id": "505d9f4f",
   "metadata": {},
   "outputs": [
    {
     "name": "stdout",
     "output_type": "stream",
     "text": [
      "{'Estado': 'SP', 'Cidade': 'Santos', 'Área Km2': 280.674, 'População': 433.656, 'País': 'Brasil'}\n"
     ]
    }
   ],
   "source": [
    "dados_cidade2['Cidade'] = 'Santos'\n",
    "dados_cidade2['Área Km2'] = 280.674\n",
    "dados_cidade2['População'] = 433.656\n",
    "\n",
    "print(dados_cidade2)"
   ]
  },
  {
   "cell_type": "code",
   "execution_count": 58,
   "id": "89bbc9e9",
   "metadata": {},
   "outputs": [
    {
     "name": "stdout",
     "output_type": "stream",
     "text": [
      "{'Estado': 'SP', 'Cidade': 'Santos', 'Área Km2': 280.674, 'População': 433.656, 'País': 'Brasil'}\n"
     ]
    }
   ],
   "source": [
    "print(dados_cidade)"
   ]
  },
  {
   "cell_type": "code",
   "execution_count": 59,
   "id": "956f591a",
   "metadata": {},
   "outputs": [],
   "source": [
    "dados_cidade3 = dados_cidade.copy()"
   ]
  },
  {
   "cell_type": "code",
   "execution_count": 60,
   "id": "6e2f7d7e",
   "metadata": {},
   "outputs": [
    {
     "name": "stdout",
     "output_type": "stream",
     "text": [
      "{'Estado': 'SP', 'Cidade': 'São Paulo', 'Área Km2': 1521.11, 'População': 12396372, 'País': 'Brasil'}\n"
     ]
    }
   ],
   "source": [
    "dados_cidade['Cidade'] = 'São Paulo'\n",
    "dados_cidade['Área Km2'] = 1521.110\n",
    "dados_cidade['População'] = 12396372\n",
    "\n",
    "print(dados_cidade)"
   ]
  },
  {
   "cell_type": "code",
   "execution_count": 61,
   "id": "eead7be4",
   "metadata": {},
   "outputs": [
    {
     "name": "stdout",
     "output_type": "stream",
     "text": [
      "{'Estado': 'SP', 'Cidade': 'Guarujá', 'Área Km2': 142.589, 'População': 320459, 'País': 'Brasil'}\n"
     ]
    }
   ],
   "source": [
    "dados_cidade3['Cidade'] = 'Guarujá'\n",
    "dados_cidade3['Área Km2'] = 142.589\n",
    "dados_cidade3['População'] = 320459\n",
    "\n",
    "print(dados_cidade3)"
   ]
  },
  {
   "cell_type": "code",
   "execution_count": 63,
   "id": "c02b79d2",
   "metadata": {},
   "outputs": [
    {
     "name": "stdout",
     "output_type": "stream",
     "text": [
      "{'Estado': 'SP', 'Cidade': 'Santos', 'Área Km2': 280.674, 'População': 433.656, 'País': 'Brasil'}\n"
     ]
    }
   ],
   "source": [
    "dados_cidade2 = dados_cidade.copy()\n",
    "\n",
    "dados_cidade2['Cidade'] = 'Santos'\n",
    "dados_cidade2['Área Km2'] = 280.674\n",
    "dados_cidade2['População'] = 433.656\n",
    "\n",
    "print(dados_cidade2)"
   ]
  },
  {
   "cell_type": "code",
   "execution_count": 64,
   "id": "dc412081",
   "metadata": {},
   "outputs": [
    {
     "name": "stdout",
     "output_type": "stream",
     "text": [
      "{'Estado': 'SP', 'Cidade': 'Guarujá', 'Área Km2': 142.589, 'População': 320459, 'País': 'Brasil', 'Altitude': 10, 'Clima': 'subtropical', 'IDH': 0.751}\n"
     ]
    }
   ],
   "source": [
    "#UPDATE dicionário\n",
    "novos_dados = {\n",
    "    'Altitude': 10,\n",
    "    'Clima': 'subtropical',\n",
    "    'IDH': 0.751\n",
    "}\n",
    "\n",
    "dados_cidade3.update(novos_dados)\n",
    "print(dados_cidade3)"
   ]
  },
  {
   "cell_type": "code",
   "execution_count": 65,
   "id": "c52e4d70",
   "metadata": {},
   "outputs": [
    {
     "name": "stdout",
     "output_type": "stream",
     "text": [
      "None\n"
     ]
    }
   ],
   "source": [
    "#Método de acesso a chave\n",
    "print(dados_cidade.get('IDH'))"
   ]
  },
  {
   "cell_type": "code",
   "execution_count": 66,
   "id": "5f969a20",
   "metadata": {},
   "outputs": [
    {
     "name": "stdout",
     "output_type": "stream",
     "text": [
      "dict_keys(['Estado', 'Cidade', 'Área Km2', 'População', 'País'])\n",
      "-----------------\n",
      "dict_values(['SP', 'São Paulo', 1521.11, 12396372, 'Brasil'])\n",
      "-----------------\n",
      "dict_items([('Estado', 'SP'), ('Cidade', 'São Paulo'), ('Área Km2', 1521.11), ('População', 12396372), ('País', 'Brasil')])\n"
     ]
    }
   ],
   "source": [
    "print(dados_cidade.keys()) # retorna um lista de chaves de um dicionário\n",
    "print(\"-----------------------------------------------------------------------------------------------------------\")\n",
    "print(dados_cidade.values()) # retorna um lista de valores de um dicionário\n",
    "print(\"-----------------------------------------------------------------------------------------------------------\")\n",
    "print(dados_cidade.items()) # retorna uma lista de tuplas (chave, valor) de um dicionário"
   ]
  },
  {
   "cell_type": "code",
   "execution_count": null,
   "id": "a038ee0a",
   "metadata": {},
   "outputs": [],
   "source": []
  }
 ],
 "metadata": {
  "kernelspec": {
   "display_name": "Python 3 (ipykernel)",
   "language": "python",
   "name": "python3"
  },
  "language_info": {
   "codemirror_mode": {
    "name": "ipython",
    "version": 3
   },
   "file_extension": ".py",
   "mimetype": "text/x-python",
   "name": "python",
   "nbconvert_exporter": "python",
   "pygments_lexer": "ipython3",
   "version": "3.10.4"
  }
 },
 "nbformat": 4,
 "nbformat_minor": 5
}
