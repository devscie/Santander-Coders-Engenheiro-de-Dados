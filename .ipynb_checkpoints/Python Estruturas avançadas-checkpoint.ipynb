{
 "cells": [
  {
   "cell_type": "code",
   "execution_count": 1,
   "id": "84455368",
   "metadata": {},
   "outputs": [],
   "source": [
    "# Listas e Tuplas"
   ]
  },
  {
   "cell_type": "code",
   "execution_count": 2,
   "id": "47cb4835",
   "metadata": {},
   "outputs": [
    {
     "name": "stdout",
     "output_type": "stream",
     "text": [
      "['Brasil', 'Argentina', 'China', 'Canada', ' Japão']\n"
     ]
    }
   ],
   "source": [
    "nomes_paises = ['Brasil', 'Argentina', 'China', 'Canada', ' Japão']\n",
    "print(nomes_paises)"
   ]
  },
  {
   "cell_type": "code",
   "execution_count": 3,
   "id": "c5544965",
   "metadata": {},
   "outputs": [
    {
     "name": "stdout",
     "output_type": "stream",
     "text": [
      "Tamanho da lista  5\n"
     ]
    }
   ],
   "source": [
    "print(\"Tamanho da lista \", len(nomes_paises))"
   ]
  },
  {
   "cell_type": "code",
   "execution_count": 4,
   "id": "9e4893b6",
   "metadata": {},
   "outputs": [
    {
     "name": "stdout",
     "output_type": "stream",
     "text": [
      "País   Japão\n"
     ]
    }
   ],
   "source": [
    "print(\"País \", nomes_paises[4])"
   ]
  },
  {
   "cell_type": "code",
   "execution_count": 5,
   "id": "09ca3492",
   "metadata": {},
   "outputs": [
    {
     "name": "stdout",
     "output_type": "stream",
     "text": [
      "País   Japão\n"
     ]
    }
   ],
   "source": [
    "print(\"País \", nomes_paises[-1])"
   ]
  },
  {
   "cell_type": "code",
   "execution_count": 6,
   "id": "62948775",
   "metadata": {},
   "outputs": [
    {
     "name": "stdout",
     "output_type": "stream",
     "text": [
      "Colômbia\n",
      "['Brasil', 'Argentina', 'China', 'Canada', 'Colômbia']\n"
     ]
    }
   ],
   "source": [
    "nomes_paises[4] = 'Colômbia'\n",
    "print(nomes_paises[4])\n",
    "print(nomes_paises)"
   ]
  },
  {
   "cell_type": "code",
   "execution_count": 7,
   "id": "6fe49374",
   "metadata": {},
   "outputs": [],
   "source": [
    "# Slice"
   ]
  },
  {
   "cell_type": "code",
   "execution_count": 8,
   "id": "d0d4a04b",
   "metadata": {},
   "outputs": [
    {
     "name": "stdout",
     "output_type": "stream",
     "text": [
      "['Argentina', 'China']\n"
     ]
    }
   ],
   "source": [
    "print(nomes_paises[1:3])"
   ]
  },
  {
   "cell_type": "code",
   "execution_count": 9,
   "id": "0a11b040",
   "metadata": {},
   "outputs": [
    {
     "name": "stdout",
     "output_type": "stream",
     "text": [
      "['Argentina', 'China', 'Canada']\n"
     ]
    }
   ],
   "source": [
    "print(nomes_paises[1:-1])"
   ]
  },
  {
   "cell_type": "code",
   "execution_count": 10,
   "id": "b6269481",
   "metadata": {},
   "outputs": [
    {
     "name": "stdout",
     "output_type": "stream",
     "text": [
      "['China', 'Canada', 'Colômbia']\n"
     ]
    }
   ],
   "source": [
    "print(nomes_paises[2:])"
   ]
  },
  {
   "cell_type": "code",
   "execution_count": 11,
   "id": "2ff44c5f",
   "metadata": {},
   "outputs": [
    {
     "name": "stdout",
     "output_type": "stream",
     "text": [
      "['Brasil', 'Argentina', 'China']\n"
     ]
    }
   ],
   "source": [
    "print(nomes_paises[:3])"
   ]
  },
  {
   "cell_type": "code",
   "execution_count": 12,
   "id": "c03c7699",
   "metadata": {},
   "outputs": [
    {
     "name": "stdout",
     "output_type": "stream",
     "text": [
      "['Brasil', 'Argentina', 'China', 'Canada', 'Colômbia']\n"
     ]
    }
   ],
   "source": [
    "print(nomes_paises[:])"
   ]
  },
  {
   "cell_type": "code",
   "execution_count": 13,
   "id": "42d99ffb",
   "metadata": {},
   "outputs": [
    {
     "name": "stdout",
     "output_type": "stream",
     "text": [
      "['Brasil', 'China', 'Colômbia']\n"
     ]
    }
   ],
   "source": [
    "print(nomes_paises[::2])"
   ]
  },
  {
   "cell_type": "code",
   "execution_count": 14,
   "id": "f85f183b",
   "metadata": {},
   "outputs": [
    {
     "name": "stdout",
     "output_type": "stream",
     "text": [
      "['Colômbia', 'Canada', 'China', 'Argentina', 'Brasil']\n"
     ]
    }
   ],
   "source": [
    "print(nomes_paises[::-1])"
   ]
  },
  {
   "cell_type": "code",
   "execution_count": 15,
   "id": "edf153aa",
   "metadata": {},
   "outputs": [
    {
     "name": "stdout",
     "output_type": "stream",
     "text": [
      "True\n"
     ]
    }
   ],
   "source": [
    "print(\"Brasil\" in nomes_paises)"
   ]
  },
  {
   "cell_type": "code",
   "execution_count": 16,
   "id": "fc578c44",
   "metadata": {},
   "outputs": [
    {
     "name": "stdout",
     "output_type": "stream",
     "text": [
      "False\n"
     ]
    }
   ],
   "source": [
    "print(\"Japão\" in nomes_paises)"
   ]
  },
  {
   "cell_type": "code",
   "execution_count": 17,
   "id": "8c187f9a",
   "metadata": {},
   "outputs": [],
   "source": [
    "lista_capitais = []\n",
    "\n",
    "lista_capitais.append(\"Brasilia\")\n",
    "lista_capitais.append(\"Buenos Aires\")\n",
    "lista_capitais.append(\"Bogota\")\n",
    "lista_capitais.append(\"Berlim\")"
   ]
  },
  {
   "cell_type": "code",
   "execution_count": 18,
   "id": "fb815abd",
   "metadata": {},
   "outputs": [
    {
     "name": "stdout",
     "output_type": "stream",
     "text": [
      "['Brasilia', 'Buenos Aires', 'Bogota', 'Berlim']\n"
     ]
    }
   ],
   "source": [
    "print(lista_capitais)"
   ]
  },
  {
   "cell_type": "code",
   "execution_count": 19,
   "id": "9a1b1b45",
   "metadata": {},
   "outputs": [
    {
     "name": "stdout",
     "output_type": "stream",
     "text": [
      "['Bangkok', 'Brasilia', 'Buenos Aires', 'Bogota', 'Berlim']\n"
     ]
    }
   ],
   "source": [
    "lista_capitais.insert(0, \"Bangkok\")\n",
    "\n",
    "print(lista_capitais)"
   ]
  },
  {
   "cell_type": "code",
   "execution_count": 20,
   "id": "e38247e0",
   "metadata": {},
   "outputs": [
    {
     "name": "stdout",
     "output_type": "stream",
     "text": [
      "['Bangkok', 'Brasilia', 'Buenos Aires', 'Bogota', 'Budapeste', 'Berlim']\n"
     ]
    }
   ],
   "source": [
    "lista_capitais.insert(-1, \"Budapeste\")\n",
    "\n",
    "print(lista_capitais)"
   ]
  },
  {
   "cell_type": "code",
   "execution_count": 21,
   "id": "2b0b8ab3",
   "metadata": {},
   "outputs": [
    {
     "name": "stdout",
     "output_type": "stream",
     "text": [
      "['Bangkok', 'Brasilia', 'Bogota', 'Budapeste', 'Berlim']\n"
     ]
    }
   ],
   "source": [
    "lista_capitais.remove(\"Buenos Aires\")\n",
    "\n",
    "print(lista_capitais)"
   ]
  },
  {
   "cell_type": "code",
   "execution_count": 22,
   "id": "5da23058",
   "metadata": {},
   "outputs": [
    {
     "name": "stdout",
     "output_type": "stream",
     "text": [
      "['Bangkok', 'Brasilia', 'Bogota', 'Budapeste'] Berlim\n"
     ]
    }
   ],
   "source": [
    "capital_removida = lista_capitais.pop(-1)\n",
    "print(lista_capitais, capital_removida)"
   ]
  },
  {
   "cell_type": "code",
   "execution_count": 23,
   "id": "a38dbc44",
   "metadata": {},
   "outputs": [
    {
     "name": "stdout",
     "output_type": "stream",
     "text": [
      "['Brasilia', 'Bogota', 'Budapeste'] Bangkok\n"
     ]
    }
   ],
   "source": [
    "capital_removida = lista_capitais.pop(0)\n",
    "print(lista_capitais, capital_removida)"
   ]
  },
  {
   "cell_type": "code",
   "execution_count": 24,
   "id": "7679356c",
   "metadata": {},
   "outputs": [
    {
     "name": "stdout",
     "output_type": "stream",
     "text": [
      "('Brasil', 'Russia', 'India', 'China', 'Africa do Sul') <class 'tuple'>\n"
     ]
    }
   ],
   "source": [
    "nomes_paises = ('Brasil', 'Russia', 'India', 'China', 'Africa do Sul')\n",
    "print(nomes_paises, type(nomes_paises))"
   ]
  },
  {
   "cell_type": "code",
   "execution_count": 25,
   "id": "54703173",
   "metadata": {},
   "outputs": [
    {
     "name": "stdout",
     "output_type": "stream",
     "text": [
      "('Brasil', 'Russia', 'India', 'China', 'Africa do Sul') <class 'tuple'>\n"
     ]
    }
   ],
   "source": [
    "nomes_paises = 'Brasil', 'Russia', 'India', 'China', 'Africa do Sul'\n",
    "print(nomes_paises, type(nomes_paises))"
   ]
  },
  {
   "cell_type": "code",
   "execution_count": 26,
   "id": "1fec2ea2",
   "metadata": {},
   "outputs": [
    {
     "name": "stdout",
     "output_type": "stream",
     "text": [
      "('São Paulo',) <class 'tuple'>\n"
     ]
    }
   ],
   "source": [
    "nomes_estados = 'São Paulo', #tupla de um elemento\n",
    "print(nomes_estados, type(nomes_estados))"
   ]
  },
  {
   "cell_type": "code",
   "execution_count": 27,
   "id": "8e620377",
   "metadata": {},
   "outputs": [
    {
     "data": {
      "text/plain": [
       "5"
      ]
     },
     "execution_count": 27,
     "metadata": {},
     "output_type": "execute_result"
    }
   ],
   "source": [
    "len(nomes_paises)"
   ]
  },
  {
   "cell_type": "code",
   "execution_count": 28,
   "id": "4fefec4e",
   "metadata": {},
   "outputs": [
    {
     "data": {
      "text/plain": [
       "'Brasil'"
      ]
     },
     "execution_count": 28,
     "metadata": {},
     "output_type": "execute_result"
    }
   ],
   "source": [
    "nomes_paises[0]"
   ]
  },
  {
   "cell_type": "code",
   "execution_count": 29,
   "id": "49645ece",
   "metadata": {},
   "outputs": [
    {
     "name": "stdout",
     "output_type": "stream",
     "text": [
      "Brasil India Africa do Sul\n"
     ]
    }
   ],
   "source": [
    "b, a, c, ca, j = nomes_paises #unpackage\n",
    "print(b, c, j)"
   ]
  },
  {
   "cell_type": "code",
   "execution_count": 30,
   "id": "a16239cc",
   "metadata": {},
   "outputs": [
    {
     "name": "stdout",
     "output_type": "stream",
     "text": [
      "Brasil Russia India China Africa do Sul\n"
     ]
    }
   ],
   "source": [
    "print(*nomes_paises) # print item a item da tupla"
   ]
  },
  {
   "cell_type": "code",
   "execution_count": 31,
   "id": "3a715810",
   "metadata": {},
   "outputs": [],
   "source": [
    "# Strings I"
   ]
  },
  {
   "cell_type": "code",
   "execution_count": 32,
   "id": "7eda81f7",
   "metadata": {},
   "outputs": [
    {
     "name": "stdout",
     "output_type": "stream",
     "text": [
      "Google\n"
     ]
    }
   ],
   "source": [
    "empresa = 'Google'\n",
    "print(empresa)"
   ]
  },
  {
   "cell_type": "code",
   "execution_count": 33,
   "id": "ad90c323",
   "metadata": {},
   "outputs": [
    {
     "name": "stdout",
     "output_type": "stream",
     "text": [
      "Google\n"
     ]
    }
   ],
   "source": [
    "empresa = \"Google\"\n",
    "print(empresa)"
   ]
  },
  {
   "cell_type": "code",
   "execution_count": 34,
   "id": "89ee76aa",
   "metadata": {},
   "outputs": [
    {
     "name": "stdout",
     "output_type": "stream",
     "text": [
      "Let's Code\n"
     ]
    }
   ],
   "source": [
    "empresa = \"Let's Code\"\n",
    "print(empresa)"
   ]
  },
  {
   "cell_type": "code",
   "execution_count": 35,
   "id": "12c020f6",
   "metadata": {},
   "outputs": [
    {
     "name": "stdout",
     "output_type": "stream",
     "text": [
      "O professor João da Escola disse: \"Hoje o lanche é por minha conta\"\n"
     ]
    }
   ],
   "source": [
    "#caractere de escape (contra barra)\n",
    "\n",
    "frase = \"O professor João da Escola disse: \\\"Hoje o lanche é por minha conta\\\"\"\n",
    "print(frase)"
   ]
  },
  {
   "cell_type": "code",
   "execution_count": 36,
   "id": "f356bb2d",
   "metadata": {},
   "outputs": [
    {
     "name": "stdout",
     "output_type": "stream",
     "text": [
      "G\n"
     ]
    }
   ],
   "source": [
    "empresa = \"Google\"\n",
    "print(empresa[0])"
   ]
  },
  {
   "cell_type": "code",
   "execution_count": 37,
   "id": "cacab7e1",
   "metadata": {},
   "outputs": [
    {
     "name": "stdout",
     "output_type": "stream",
     "text": [
      "Goo\n"
     ]
    }
   ],
   "source": [
    "print(empresa[:3])"
   ]
  },
  {
   "cell_type": "code",
   "execution_count": 38,
   "id": "e795196b",
   "metadata": {},
   "outputs": [
    {
     "name": "stdout",
     "output_type": "stream",
     "text": [
      "São Paulo, Belo Horizonte, Rio de Janeiro, Brasília\n"
     ]
    }
   ],
   "source": [
    "nomes_cidades = \"São Paulo, Belo Horizonte, Rio de Janeiro, Brasília\"\n",
    "print(nomes_cidades)"
   ]
  },
  {
   "cell_type": "code",
   "execution_count": 39,
   "id": "4ad97c4e",
   "metadata": {},
   "outputs": [
    {
     "name": "stdout",
     "output_type": "stream",
     "text": [
      "['São Paulo', 'Belo Horizonte', 'Rio de Janeiro', 'Brasília']\n"
     ]
    }
   ],
   "source": [
    "# quebrar string\n",
    "nomes_cidades = \"São Paulo, Belo Horizonte, Rio de Janeiro, Brasília\"\n",
    "nomes_cidades = nomes_cidades.split(', ')\n",
    "print(nomes_cidades)"
   ]
  },
  {
   "cell_type": "code",
   "execution_count": 40,
   "id": "f8fdf81f",
   "metadata": {},
   "outputs": [
    {
     "name": "stdout",
     "output_type": "stream",
     "text": [
      "MENU PRINCIPAL\n"
     ]
    }
   ],
   "source": [
    "# eliminar espaços extra da string\n",
    "cabecalho = \"         MENU PRINCIPAL        \"\n",
    "print(cabecalho.strip())"
   ]
  },
  {
   "cell_type": "code",
   "execution_count": 41,
   "id": "1534ca5b",
   "metadata": {},
   "outputs": [
    {
     "name": "stdout",
     "output_type": "stream",
     "text": [
      "Rio De Janeiro\n",
      "Rio de janeiro\n",
      "rio de janeiro\n",
      "RIO DE JANEIRO\n"
     ]
    }
   ],
   "source": [
    "nome_cidade = \"rio DE jaNeiro\"\n",
    "\n",
    "print(nome_cidade.title()) #começar cada palavra com letra Maiuscula\n",
    "print(nome_cidade.capitalize()) #começar a palavra com letra Maiuscula\n",
    "print(nome_cidade.lower())\n",
    "print(nome_cidade.upper())"
   ]
  },
  {
   "cell_type": "code",
   "execution_count": 42,
   "id": "33058d05",
   "metadata": {},
   "outputs": [
    {
     "name": "stdout",
     "output_type": "stream",
     "text": [
      "Que cidade do Brasil é conhecida como cidade maravilhosa?São Paulo\n",
      "Tente outra vez\n",
      "Que cidade do Brasil é conhecida como cidade maravilhosa?Rio de Janeiro\n",
      "Boa, Campeão\n"
     ]
    }
   ],
   "source": [
    "nome_da_cidade = input(\"Que cidade do Brasil é conhecida como cidade maravilhosa?\")\n",
    "nome_da_cidade = nome_da_cidade.strip()\n",
    "while nome_da_cidade.lower() != 'rio de janeiro':\n",
    "    print(\"Tente outra vez\")\n",
    "    nome_da_cidade = input(\"Que cidade do Brasil é conhecida como cidade maravilhosa?\")\n",
    "    \n",
    "print(\"Boa, Campeão\")"
   ]
  },
  {
   "cell_type": "code",
   "execution_count": 43,
   "id": "ac2f7832",
   "metadata": {},
   "outputs": [
    {
     "name": "stdout",
     "output_type": "stream",
     "text": [
      "True\n"
     ]
    }
   ],
   "source": [
    "mensagem = \"Você viu o que o João disse na sala ontem?\"\n",
    "fui_citado = 'João' in mensagem\n",
    "print(fui_citado)"
   ]
  },
  {
   "cell_type": "code",
   "execution_count": 44,
   "id": "7691b7c8",
   "metadata": {},
   "outputs": [
    {
     "name": "stdout",
     "output_type": "stream",
     "text": [
      "Olá, João\n"
     ]
    }
   ],
   "source": [
    "cumprimento = \"Olá, \"\n",
    "nome = \"João\"\n",
    "print(cumprimento + nome)"
   ]
  },
  {
   "cell_type": "code",
   "execution_count": 45,
   "id": "6b8f03ad",
   "metadata": {},
   "outputs": [
    {
     "name": "stdout",
     "output_type": "stream",
     "text": [
      "JoãoJoãoJoãoJoãoJoão\n"
     ]
    }
   ],
   "source": [
    "print(nome * 5)"
   ]
  },
  {
   "cell_type": "code",
   "execution_count": 46,
   "id": "09e6a9a6",
   "metadata": {},
   "outputs": [
    {
     "name": "stdout",
     "output_type": "stream",
     "text": [
      "Maria tem 30 anos e 2 filhos.\n"
     ]
    }
   ],
   "source": [
    "nome = \"Maria\"\n",
    "idade = 30\n",
    "n_filhos = 2\n",
    "print(nome + \" tem \" + str(idade) + \" anos e \" + str(n_filhos) + \" filhos.\")"
   ]
  },
  {
   "cell_type": "code",
   "execution_count": 47,
   "id": "620a9b75",
   "metadata": {},
   "outputs": [
    {
     "name": "stdout",
     "output_type": "stream",
     "text": [
      "Maria tem 30 anos e 2 filhos.\n"
     ]
    }
   ],
   "source": [
    "print('{} tem {} anos e {} filhos.'.format(nome, idade, n_filhos))"
   ]
  },
  {
   "cell_type": "code",
   "execution_count": 48,
   "id": "1f2090b6",
   "metadata": {},
   "outputs": [
    {
     "name": "stdout",
     "output_type": "stream",
     "text": [
      "O preço da gasolina hoje subiu e está em R$ 4.79\n"
     ]
    }
   ],
   "source": [
    "preco_gasolina = 4.789\n",
    "print(\"O preço da gasolina hoje subiu e está em R$ {:.2f}\".format(preco_gasolina))"
   ]
  },
  {
   "cell_type": "code",
   "execution_count": 49,
   "id": "e9096ea5",
   "metadata": {},
   "outputs": [
    {
     "name": "stdout",
     "output_type": "stream",
     "text": [
      "Maria tem 30 anos e 2 filhos.\n"
     ]
    }
   ],
   "source": [
    "print(f'{nome} tem {idade} anos e {n_filhos} filhos.')"
   ]
  },
  {
   "cell_type": "code",
   "execution_count": 50,
   "id": "de51157a",
   "metadata": {},
   "outputs": [],
   "source": [
    "#Dicionários"
   ]
  },
  {
   "cell_type": "code",
   "execution_count": 51,
   "id": "993698a7",
   "metadata": {},
   "outputs": [],
   "source": [
    "# Pares: Chaves e Valores\n",
    "dados_cidade = {\n",
    "    'Estado': 'São Paulo',\n",
    "    'Cidade': 'São Paulo',\n",
    "    'Área Km2': 1521.110,\n",
    "    'População': 12396372\n",
    "}"
   ]
  },
  {
   "cell_type": "code",
   "execution_count": 52,
   "id": "3b73b45a",
   "metadata": {},
   "outputs": [
    {
     "name": "stdout",
     "output_type": "stream",
     "text": [
      "{'Estado': 'São Paulo', 'Cidade': 'São Paulo', 'Área Km2': 1521.11, 'População': 12396372}\n"
     ]
    }
   ],
   "source": [
    "print(dados_cidade)"
   ]
  },
  {
   "cell_type": "code",
   "execution_count": 53,
   "id": "d0cdf07f",
   "metadata": {},
   "outputs": [
    {
     "name": "stdout",
     "output_type": "stream",
     "text": [
      "{'Estado': 'São Paulo', 'Cidade': 'São Paulo', 'Área Km2': 1521.11, 'População': 12396372, 'País': 'Brasil'}\n"
     ]
    }
   ],
   "source": [
    "#Adicionar dados no Dicionário\n",
    "dados_cidade['País'] = 'Brasil'\n",
    "print(dados_cidade)"
   ]
  },
  {
   "cell_type": "code",
   "execution_count": 54,
   "id": "86724040",
   "metadata": {},
   "outputs": [
    {
     "name": "stdout",
     "output_type": "stream",
     "text": [
      "São Paulo\n"
     ]
    }
   ],
   "source": [
    "print(dados_cidade['Cidade'])"
   ]
  },
  {
   "cell_type": "code",
   "execution_count": 55,
   "id": "2e97ae1c",
   "metadata": {},
   "outputs": [
    {
     "name": "stdout",
     "output_type": "stream",
     "text": [
      "{'Estado': 'SP', 'Cidade': 'São Paulo', 'Área Km2': 1521.11, 'População': 12396372, 'País': 'Brasil'}\n"
     ]
    }
   ],
   "source": [
    "#Alterar dados do Dicionário\n",
    "dados_cidade['Estado'] = 'SP'\n",
    "print(dados_cidade)"
   ]
  },
  {
   "cell_type": "code",
   "execution_count": 56,
   "id": "b20b1671",
   "metadata": {},
   "outputs": [],
   "source": [
    "dados_cidade2 = dados_cidade"
   ]
  },
  {
   "cell_type": "code",
   "execution_count": 57,
   "id": "c0281dd0",
   "metadata": {},
   "outputs": [
    {
     "name": "stdout",
     "output_type": "stream",
     "text": [
      "{'Estado': 'SP', 'Cidade': 'Santos', 'Área Km2': 280.674, 'População': 433.656, 'País': 'Brasil'}\n"
     ]
    }
   ],
   "source": [
    "dados_cidade2['Cidade'] = 'Santos'\n",
    "dados_cidade2['Área Km2'] = 280.674\n",
    "dados_cidade2['População'] = 433.656\n",
    "\n",
    "print(dados_cidade2)"
   ]
  },
  {
   "cell_type": "code",
   "execution_count": 58,
   "id": "8925848b",
   "metadata": {},
   "outputs": [
    {
     "name": "stdout",
     "output_type": "stream",
     "text": [
      "{'Estado': 'SP', 'Cidade': 'Santos', 'Área Km2': 280.674, 'População': 433.656, 'País': 'Brasil'}\n"
     ]
    }
   ],
   "source": [
    "print(dados_cidade)"
   ]
  },
  {
   "cell_type": "code",
   "execution_count": 59,
   "id": "b160ab89",
   "metadata": {},
   "outputs": [],
   "source": [
    "dados_cidade3 = dados_cidade.copy()"
   ]
  },
  {
   "cell_type": "code",
   "execution_count": 60,
   "id": "da3c3fde",
   "metadata": {},
   "outputs": [
    {
     "name": "stdout",
     "output_type": "stream",
     "text": [
      "{'Estado': 'SP', 'Cidade': 'São Paulo', 'Área Km2': 1521.11, 'População': 12396372, 'País': 'Brasil'}\n"
     ]
    }
   ],
   "source": [
    "dados_cidade['Cidade'] = 'São Paulo'\n",
    "dados_cidade['Área Km2'] = 1521.110\n",
    "dados_cidade['População'] = 12396372\n",
    "\n",
    "print(dados_cidade)"
   ]
  },
  {
   "cell_type": "code",
   "execution_count": 61,
   "id": "c168c7ac",
   "metadata": {},
   "outputs": [
    {
     "name": "stdout",
     "output_type": "stream",
     "text": [
      "{'Estado': 'SP', 'Cidade': 'Guarujá', 'Área Km2': 142.589, 'População': 320459, 'País': 'Brasil'}\n"
     ]
    }
   ],
   "source": [
    "dados_cidade3['Cidade'] = 'Guarujá'\n",
    "dados_cidade3['Área Km2'] = 142.589\n",
    "dados_cidade3['População'] = 320459\n",
    "\n",
    "print(dados_cidade3)"
   ]
  },
  {
   "cell_type": "code",
   "execution_count": 63,
   "id": "b817d949",
   "metadata": {},
   "outputs": [
    {
     "name": "stdout",
     "output_type": "stream",
     "text": [
      "{'Estado': 'SP', 'Cidade': 'Santos', 'Área Km2': 280.674, 'População': 433.656, 'País': 'Brasil'}\n"
     ]
    }
   ],
   "source": [
    "dados_cidade2 = dados_cidade.copy()\n",
    "\n",
    "dados_cidade2['Cidade'] = 'Santos'\n",
    "dados_cidade2['Área Km2'] = 280.674\n",
    "dados_cidade2['População'] = 433.656\n",
    "\n",
    "print(dados_cidade2)"
   ]
  },
  {
   "cell_type": "code",
   "execution_count": 64,
   "id": "66ffbf44",
   "metadata": {},
   "outputs": [
    {
     "name": "stdout",
     "output_type": "stream",
     "text": [
      "{'Estado': 'SP', 'Cidade': 'Guarujá', 'Área Km2': 142.589, 'População': 320459, 'País': 'Brasil', 'Altitude': 10, 'Clima': 'subtropical', 'IDH': 0.751}\n"
     ]
    }
   ],
   "source": [
    "#UPDATE dicionário\n",
    "novos_dados = {\n",
    "    'Altitude': 10,\n",
    "    'Clima': 'subtropical',\n",
    "    'IDH': 0.751\n",
    "}\n",
    "\n",
    "dados_cidade3.update(novos_dados)\n",
    "print(dados_cidade3)"
   ]
  },
  {
   "cell_type": "code",
   "execution_count": 65,
   "id": "1282eb58",
   "metadata": {},
   "outputs": [
    {
     "name": "stdout",
     "output_type": "stream",
     "text": [
      "None\n"
     ]
    }
   ],
   "source": [
    "#Método de acesso a chave\n",
    "print(dados_cidade.get('IDH'))"
   ]
  },
  {
   "cell_type": "code",
   "execution_count": 66,
   "id": "d87bc306",
   "metadata": {},
   "outputs": [
    {
     "name": "stdout",
     "output_type": "stream",
     "text": [
      "dict_keys(['Estado', 'Cidade', 'Área Km2', 'População', 'País'])\n",
      "-----------------\n",
      "dict_values(['SP', 'São Paulo', 1521.11, 12396372, 'Brasil'])\n",
      "-----------------\n",
      "dict_items([('Estado', 'SP'), ('Cidade', 'São Paulo'), ('Área Km2', 1521.11), ('População', 12396372), ('País', 'Brasil')])\n"
     ]
    }
   ],
   "source": [
    "print(dados_cidade.keys()) # retorna um lista de chaves de um dicionário\n",
    "print(\"-----------------------------------------------------------------------------------------------------------\")\n",
    "print(dados_cidade.values()) # retorna um lista de valores de um dicionário\n",
    "print(\"-----------------------------------------------------------------------------------------------------------\")\n",
    "print(dados_cidade.items()) # retorna uma lista de tuplas (chave, valor) de um dicionário"
   ]
  },
  {
   "cell_type": "code",
   "execution_count": null,
   "id": "bf0718f9",
   "metadata": {},
   "outputs": [],
   "source": [
    "# Estrutura de Repetição - FOR"
   ]
  },
  {
   "cell_type": "code",
   "execution_count": 67,
   "id": "cd5b8d35",
   "metadata": {},
   "outputs": [
    {
     "name": "stdout",
     "output_type": "stream",
     "text": [
      "Belo Horizonte\n",
      "São Paulo\n",
      "Rio de Janeiro\n"
     ]
    }
   ],
   "source": [
    "#lista\n",
    "nomes_capitais = ['Belo Horizonte', 'São Paulo', 'Rio de Janeiro']\n",
    "for capitais in nomes_capitais:\n",
    "    print(capitais)"
   ]
  },
  {
   "cell_type": "code",
   "execution_count": 68,
   "id": "6be28633",
   "metadata": {},
   "outputs": [
    {
     "name": "stdout",
     "output_type": "stream",
     "text": [
      "Belo Horizonte\n",
      "São Paulo\n",
      "Rio de Janeiro\n"
     ]
    }
   ],
   "source": [
    "contador = 0\n",
    "nomes_capitais = ['Belo Horizonte', 'São Paulo', 'Rio de Janeiro']\n",
    "while contador < len(nomes_capitais):\n",
    "    print(nomes_capitais[contador])\n",
    "    contador += 1 "
   ]
  },
  {
   "cell_type": "code",
   "execution_count": 69,
   "id": "571b62c5",
   "metadata": {},
   "outputs": [
    {
     "name": "stdout",
     "output_type": "stream",
     "text": [
      "Belo Horizonte\n",
      "São Paulo\n",
      "Rio de Janeiro\n"
     ]
    }
   ],
   "source": [
    "#tupla\n",
    "nomes_capitais = 'Belo Horizonte', 'São Paulo', 'Rio de Janeiro'\n",
    "for capitais in nomes_capitais:\n",
    "    print(capitais)"
   ]
  },
  {
   "cell_type": "code",
   "execution_count": 73,
   "id": "d40595d1",
   "metadata": {},
   "outputs": [
    {
     "name": "stdout",
     "output_type": "stream",
     "text": [
      "Cidade: São Paulo\n",
      "Estado: SP\n",
      "Área Km2: 1521.11\n",
      "População: 12396372\n"
     ]
    }
   ],
   "source": [
    "cidade = {\n",
    "    'Cidade': 'São Paulo',\n",
    "    'Estado': 'SP',\n",
    "    'Área Km2': 1521.110,\n",
    "    'População': 12396372\n",
    "}\n",
    "\n",
    "for chave in cidade:\n",
    "    print(f'{chave}: {cidade[chave]}')"
   ]
  },
  {
   "cell_type": "code",
   "execution_count": 74,
   "id": "62056a29",
   "metadata": {},
   "outputs": [
    {
     "name": "stdout",
     "output_type": "stream",
     "text": [
      "0\n",
      "1\n",
      "2\n"
     ]
    }
   ],
   "source": [
    "nomes_capitais = ['Belo Horizonte', 'São Paulo', 'Rio de Janeiro']\n",
    "for posicao in range(len(nomes_capitais)):\n",
    "    print(posicao)"
   ]
  },
  {
   "cell_type": "code",
   "execution_count": 76,
   "id": "f9f5551a",
   "metadata": {},
   "outputs": [
    {
     "name": "stdout",
     "output_type": "stream",
     "text": [
      "['Brasil', 'Brasil', 'Brasil']\n"
     ]
    }
   ],
   "source": [
    "nomes_capitais = ['Belo Horizonte', 'São Paulo', 'Rio de Janeiro']\n",
    "for posicao in range(len(nomes_capitais)):\n",
    "    nomes_capitais[posicao] = 'Brasil'\n",
    "\n",
    "print(nomes_capitais)"
   ]
  },
  {
   "cell_type": "code",
   "execution_count": 77,
   "id": "c6c373ce",
   "metadata": {},
   "outputs": [
    {
     "name": "stdout",
     "output_type": "stream",
     "text": [
      "[0, 1, 2, 3, 4, 5, 6, 7, 8, 9]\n",
      "[2, 3, 4, 5, 6, 7, 8, 9]\n",
      "[2, 4, 6, 8]\n"
     ]
    }
   ],
   "source": [
    "print(list(range(10))) #imprimir até \n",
    "print(list(range(2, 10))) # começa imprimir em e termina em\n",
    "print(list(range(2, 10, 2))) # começa imprimir em e termina em, de x em x"
   ]
  },
  {
   "cell_type": "code",
   "execution_count": null,
   "id": "f1e4e4d4",
   "metadata": {},
   "outputs": [],
   "source": []
  }
 ],
 "metadata": {
  "kernelspec": {
   "display_name": "Python 3 (ipykernel)",
   "language": "python",
   "name": "python3"
  },
  "language_info": {
   "codemirror_mode": {
    "name": "ipython",
    "version": 3
   },
   "file_extension": ".py",
   "mimetype": "text/x-python",
   "name": "python",
   "nbconvert_exporter": "python",
   "pygments_lexer": "ipython3",
   "version": "3.10.4"
  }
 },
 "nbformat": 4,
 "nbformat_minor": 5
}
